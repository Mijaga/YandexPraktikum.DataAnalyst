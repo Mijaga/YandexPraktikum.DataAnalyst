{
 "cells": [
  {
   "cell_type": "markdown",
   "metadata": {},
   "source": [
    "# Выделение групп пользователей на основе поведения"
   ]
  },
  {
   "cell_type": "markdown",
   "metadata": {},
   "source": [
    "Дерзкая и амбициозная команда сервиса «Ненужные вещи» считает, что пользователи совершают много действий в приложении. Нужно найти в данных инсайты, которые позволят Ненужным вещам стать лучшим приложением для продажи ненужных вещей."
   ]
  },
  {
   "cell_type": "markdown",
   "metadata": {},
   "source": [
    "**Задача проекта:**\n",
    "\n",
    "Выявить целевой и смежные сегменты аудитории мобильного приложения и предложить рекомендации по улучшению взаимодействия со смежными сегментами"
   ]
  },
  {
   "cell_type": "markdown",
   "metadata": {},
   "source": [
    "# Описание данных\n",
    "\n",
    "Датасет **mobile_dataset.csv** содержит колонки:\n",
    "- `event.time` — время совершения\n",
    "- `event.name` — название события\n",
    "- `user.id` — идентификатор пользователя\n",
    "\n",
    "Датасет **mobile_sources.csv** содержит колонки:\n",
    "- `userId` — идентификатор пользователя\n",
    "- `source` — источник, с которого пользователь установил приложение\n",
    "\n",
    "Расшифровки событий:\n",
    "- `advert_open` — открытие карточки объявления\n",
    "-`photos_show` — просмотр фотографий в объявлении\n",
    "- `tips_show` — пользователь увидел рекомендованные объявления\n",
    "- `tips_click` — пользователь кликнул по рекомендованному объявлению\n",
    "- `contacts_show` и `show_contacts` — пользователь нажал на кнопку \"посмотреть номер телефона\" на карточке объявления\n",
    "- `contacts_call` — пользователь позвонил по номеру телефона на карточке объявления\n",
    "- `map` — пользователь открыл карту размещенных объявлений\n",
    "- `search_1` — `search_7` — разные события, связанные с поиском по сайту\n",
    "- `favorites_add` — добавление объявления в избранное"
   ]
  },
  {
   "cell_type": "markdown",
   "metadata": {},
   "source": [
    "<h1>Оглавление aka план проекта<span class=\"tocSkip\"></span></h1>\n",
    "<div class=\"toc\"><ul class=\"toc-item\"><li><span><a href=\"#Предобработка-данных\" data-toc-modified-id=\"Предобработка-данных-1\"><span class=\"toc-item-num\">1&nbsp;&nbsp;</span>Предобработка данных</a></span><ul class=\"toc-item\"><li><span><a href=\"#Изучу-основную-информацию-по-таблице-event_data:\" data-toc-modified-id=\"Изучу-основную-информацию-по-таблице-event_data:-1.1\"><span class=\"toc-item-num\">1.1&nbsp;&nbsp;</span>Изучу основную информацию по таблице event_data:</a></span></li><li><span><a href=\"#Изучу-основную-информацию-по-таблице-source_data:\" data-toc-modified-id=\"Изучу-основную-информацию-по-таблице-source_data:-1.2\"><span class=\"toc-item-num\">1.2&nbsp;&nbsp;</span>Изучу основную информацию по таблице source_data:</a></span></li><li><span><a href=\"#Вывод-по-шагу-1\" data-toc-modified-id=\"Вывод-по-шагу-1-1.3\"><span class=\"toc-item-num\">1.3&nbsp;&nbsp;</span>Вывод по шагу 1</a></span></li></ul></li><li><span><a href=\"#Исследовательский-анализ-данных\" data-toc-modified-id=\"Исследовательский-анализ-данных-2\"><span class=\"toc-item-num\">2&nbsp;&nbsp;</span>Исследовательский анализ данных</a></span><ul class=\"toc-item\"><li><span><a href=\"#Смотрю,-сколько-клиентов-из-каких-источников-пришли\" data-toc-modified-id=\"Смотрю,-сколько-клиентов-из-каких-источников-пришли-2.1\"><span class=\"toc-item-num\">2.1&nbsp;&nbsp;</span>Смотрю, сколько клиентов из каких источников пришли</a></span></li><li><span><a href=\"#Распределение-событий-по-дням\" data-toc-modified-id=\"Распределение-событий-по-дням-2.2\"><span class=\"toc-item-num\">2.2&nbsp;&nbsp;</span>Распределение событий по дням</a></span></li><li><span><a href=\"#Разделяю-события-на-сессии\" data-toc-modified-id=\"Разделяю-события-на-сессии-2.3\"><span class=\"toc-item-num\">2.3&nbsp;&nbsp;</span>Разделяю события на сессии</a></span></li><li><span><a href=\"#Поиск-фродера\" data-toc-modified-id=\"Поиск-фродера-2.4\"><span class=\"toc-item-num\">2.4&nbsp;&nbsp;</span>Поиск фродера</a></span></li><li><span><a href=\"#Считаю-lifetime\" data-toc-modified-id=\"Считаю-lifetime-2.5\"><span class=\"toc-item-num\">2.5&nbsp;&nbsp;</span>Считаю lifetime</a></span></li><li><span><a href=\"#Считаю-число-целевых-действий\" data-toc-modified-id=\"Считаю-число-целевых-действий-2.6\"><span class=\"toc-item-num\">2.6&nbsp;&nbsp;</span>Считаю число целевых действий</a></span></li><li><span><a href=\"#Считаю-распределение-признаков\" data-toc-modified-id=\"Считаю-распределение-признаков-2.7\"><span class=\"toc-item-num\">2.7&nbsp;&nbsp;</span>Считаю распределение признаков</a></span></li><li><span><a href=\"#Матрица-коррелиции-признаков\" data-toc-modified-id=\"Матрица-коррелиции-признаков-2.8\"><span class=\"toc-item-num\">2.8&nbsp;&nbsp;</span>Матрица коррелиции признаков</a></span></li><li><span><a href=\"#Вывод-по-шагу-2\" data-toc-modified-id=\"Вывод-по-шагу-2-2.9\"><span class=\"toc-item-num\">2.9&nbsp;&nbsp;</span>Вывод по шагу 2</a></span></li></ul></li><li><span><a href=\"#Сегментировать-пользователей-на-основе-действий\" data-toc-modified-id=\"Сегментировать-пользователей-на-основе-действий-3\"><span class=\"toc-item-num\">3&nbsp;&nbsp;</span>Сегментировать пользователей на основе действий</a></span><ul class=\"toc-item\"><li><span><a href=\"#Сегментация\" data-toc-modified-id=\"Сегментация-3.1\"><span class=\"toc-item-num\">3.1&nbsp;&nbsp;</span>Сегментация</a></span></li><li><span><a href=\"#Описание-сегментов\" data-toc-modified-id=\"Описание-сегментов-3.2\"><span class=\"toc-item-num\">3.2&nbsp;&nbsp;</span>Описание сегментов</a></span></li><li><span><a href=\"#Вывод-по-шагу-3\" data-toc-modified-id=\"Вывод-по-шагу-3-3.3\"><span class=\"toc-item-num\">3.3&nbsp;&nbsp;</span>Вывод по шагу 3</a></span></li></ul></li><li><span><a href=\"#Статистический-анализ-данных\" data-toc-modified-id=\"Статистический-анализ-данных-4\"><span class=\"toc-item-num\">4&nbsp;&nbsp;</span>Статистический анализ данных</a></span><ul class=\"toc-item\"><li><span><a href=\"#Анализ-Retention-rate\" data-toc-modified-id=\"Анализ-Retention-rate-4.1\"><span class=\"toc-item-num\">4.1&nbsp;&nbsp;</span>Анализ Retention rate</a></span></li><li><span><a href=\"#Вывод-по-шагу-4\" data-toc-modified-id=\"Вывод-по-шагу-4-4.2\"><span class=\"toc-item-num\">4.2&nbsp;&nbsp;</span>Вывод по шагу 4</a></span></li></ul></li><li><span><a href=\"#Проверка-гипотез\" data-toc-modified-id=\"Проверка-гипотез-5\"><span class=\"toc-item-num\">5&nbsp;&nbsp;</span>Проверка гипотез</a></span><ul class=\"toc-item\"><li><span><a href=\"#Проверка-первой-гипотезы\" data-toc-modified-id=\"Проверка-первой-гипотезы-5.1\"><span class=\"toc-item-num\">5.1&nbsp;&nbsp;</span>Проверка первой гипотезы</a></span></li><li><span><a href=\"#Проверка-второй-гипотезы\" data-toc-modified-id=\"Проверка-второй-гипотезы-5.2\"><span class=\"toc-item-num\">5.2&nbsp;&nbsp;</span>Проверка второй гипотезы</a></span></li><li><span><a href=\"#Вывод-по-шагу-5\" data-toc-modified-id=\"Вывод-по-шагу-5-5.3\"><span class=\"toc-item-num\">5.3&nbsp;&nbsp;</span>Вывод по шагу 5</a></span></li></ul></li><li><span><a href=\"#Выводы-по-анализу\" data-toc-modified-id=\"Выводы-по-анализу-6\"><span class=\"toc-item-num\">6&nbsp;&nbsp;</span>Выводы по анализу</a></span></li><li><span><a href=\"#Предложения\" data-toc-modified-id=\"Предложения-7\"><span class=\"toc-item-num\">7&nbsp;&nbsp;</span>Предложения</a></span></li><li><span><a href=\"#Материалы\" data-toc-modified-id=\"Материалы-8\"><span class=\"toc-item-num\">8&nbsp;&nbsp;</span>Материалы</a></span></li></ul></div>"
   ]
  },
  {
   "cell_type": "markdown",
   "metadata": {},
   "source": [
    "## Предобработка данных "
   ]
  },
  {
   "cell_type": "code",
   "execution_count": 1,
   "metadata": {},
   "outputs": [],
   "source": [
    "#импортирую панд и другие библиотеки\n",
    "import pandas as pd \n",
    "import datetime as dt\n",
    "import numpy as np\n",
    "import scipy.stats as stats\n",
    "import matplotlib.pyplot as plt\n",
    "import plotly.express as px\n",
    "import math as mth\n",
    "from plotly import graph_objects as go\n",
    "from datetime import datetime\n",
    "from scipy import stats as st\n",
    "from scipy.cluster.hierarchy import dendrogram, linkage\n",
    "from sklearn.preprocessing import StandardScaler\n",
    "from sklearn.model_selection import train_test_split\n",
    "from sklearn.linear_model import LogisticRegression\n",
    "from sklearn.metrics import accuracy_score, precision_score, recall_score, f1_score\n",
    "from sklearn.tree import DecisionTreeRegressor, DecisionTreeClassifier\n",
    "from sklearn.ensemble import RandomForestRegressor, GradientBoostingRegressor\n",
    "from sklearn.ensemble import RandomForestClassifier, GradientBoostingClassifier\n",
    "from sklearn.metrics import accuracy_score, precision_score, recall_score\n",
    "from sklearn.cluster import KMeans\n",
    "import seaborn as sns\n",
    "sns.set(style=\"white\")\n",
    "colors =[\"#ff6b85\",\"#ffcf57\",\"#0059d7\",\"#af4fcb\",\"#3d35e7\"]\n",
    "sns.set_palette(sns.color_palette(colors))"
   ]
  },
  {
   "cell_type": "code",
   "execution_count": 2,
   "metadata": {},
   "outputs": [],
   "source": [
    "#загружаю датасеты\n",
    "event_data = pd.read_csv('/datasets/mobile_dataset.csv')\n",
    "source_data = pd.read_csv('/datasets/mobile_soures.csv')"
   ]
  },
  {
   "cell_type": "markdown",
   "metadata": {},
   "source": [
    "### Изучу основную информацию по таблице event_data:"
   ]
  },
  {
   "cell_type": "code",
   "execution_count": 3,
   "metadata": {},
   "outputs": [
    {
     "data": {
      "text/html": [
       "<div>\n",
       "<style scoped>\n",
       "    .dataframe tbody tr th:only-of-type {\n",
       "        vertical-align: middle;\n",
       "    }\n",
       "\n",
       "    .dataframe tbody tr th {\n",
       "        vertical-align: top;\n",
       "    }\n",
       "\n",
       "    .dataframe thead th {\n",
       "        text-align: right;\n",
       "    }\n",
       "</style>\n",
       "<table border=\"1\" class=\"dataframe\">\n",
       "  <thead>\n",
       "    <tr style=\"text-align: right;\">\n",
       "      <th></th>\n",
       "      <th>event.time</th>\n",
       "      <th>event.name</th>\n",
       "      <th>user.id</th>\n",
       "    </tr>\n",
       "  </thead>\n",
       "  <tbody>\n",
       "    <tr>\n",
       "      <td>0</td>\n",
       "      <td>2019-10-07 00:00:00.431357</td>\n",
       "      <td>advert_open</td>\n",
       "      <td>020292ab-89bc-4156-9acf-68bc2783f894</td>\n",
       "    </tr>\n",
       "    <tr>\n",
       "      <td>1</td>\n",
       "      <td>2019-10-07 00:00:01.236320</td>\n",
       "      <td>tips_show</td>\n",
       "      <td>020292ab-89bc-4156-9acf-68bc2783f894</td>\n",
       "    </tr>\n",
       "    <tr>\n",
       "      <td>2</td>\n",
       "      <td>2019-10-07 00:00:02.245341</td>\n",
       "      <td>tips_show</td>\n",
       "      <td>cf7eda61-9349-469f-ac27-e5b6f5ec475c</td>\n",
       "    </tr>\n",
       "    <tr>\n",
       "      <td>3</td>\n",
       "      <td>2019-10-07 00:00:07.039334</td>\n",
       "      <td>tips_show</td>\n",
       "      <td>020292ab-89bc-4156-9acf-68bc2783f894</td>\n",
       "    </tr>\n",
       "    <tr>\n",
       "      <td>4</td>\n",
       "      <td>2019-10-07 00:00:56.319813</td>\n",
       "      <td>advert_open</td>\n",
       "      <td>cf7eda61-9349-469f-ac27-e5b6f5ec475c</td>\n",
       "    </tr>\n",
       "  </tbody>\n",
       "</table>\n",
       "</div>"
      ],
      "text/plain": [
       "                   event.time   event.name  \\\n",
       "0  2019-10-07 00:00:00.431357  advert_open   \n",
       "1  2019-10-07 00:00:01.236320    tips_show   \n",
       "2  2019-10-07 00:00:02.245341    tips_show   \n",
       "3  2019-10-07 00:00:07.039334    tips_show   \n",
       "4  2019-10-07 00:00:56.319813  advert_open   \n",
       "\n",
       "                                user.id  \n",
       "0  020292ab-89bc-4156-9acf-68bc2783f894  \n",
       "1  020292ab-89bc-4156-9acf-68bc2783f894  \n",
       "2  cf7eda61-9349-469f-ac27-e5b6f5ec475c  \n",
       "3  020292ab-89bc-4156-9acf-68bc2783f894  \n",
       "4  cf7eda61-9349-469f-ac27-e5b6f5ec475c  "
      ]
     },
     "execution_count": 3,
     "metadata": {},
     "output_type": "execute_result"
    }
   ],
   "source": [
    "event_data.head(5)"
   ]
  },
  {
   "cell_type": "code",
   "execution_count": 4,
   "metadata": {},
   "outputs": [
    {
     "name": "stdout",
     "output_type": "stream",
     "text": [
      "<class 'pandas.core.frame.DataFrame'>\n",
      "RangeIndex: 74197 entries, 0 to 74196\n",
      "Data columns (total 3 columns):\n",
      "event.time    74197 non-null object\n",
      "event.name    74197 non-null object\n",
      "user.id       74197 non-null object\n",
      "dtypes: object(3)\n",
      "memory usage: 1.7+ MB\n"
     ]
    }
   ],
   "source": [
    "event_data.info()"
   ]
  },
  {
   "cell_type": "code",
   "execution_count": 5,
   "metadata": {},
   "outputs": [
    {
     "data": {
      "text/html": [
       "<div>\n",
       "<style scoped>\n",
       "    .dataframe tbody tr th:only-of-type {\n",
       "        vertical-align: middle;\n",
       "    }\n",
       "\n",
       "    .dataframe tbody tr th {\n",
       "        vertical-align: top;\n",
       "    }\n",
       "\n",
       "    .dataframe thead th {\n",
       "        text-align: right;\n",
       "    }\n",
       "</style>\n",
       "<table border=\"1\" class=\"dataframe\">\n",
       "  <thead>\n",
       "    <tr style=\"text-align: right;\">\n",
       "      <th></th>\n",
       "      <th>event.time</th>\n",
       "      <th>event.name</th>\n",
       "      <th>user.id</th>\n",
       "    </tr>\n",
       "  </thead>\n",
       "  <tbody>\n",
       "    <tr>\n",
       "      <td>count</td>\n",
       "      <td>74197</td>\n",
       "      <td>74197</td>\n",
       "      <td>74197</td>\n",
       "    </tr>\n",
       "    <tr>\n",
       "      <td>unique</td>\n",
       "      <td>74197</td>\n",
       "      <td>16</td>\n",
       "      <td>4293</td>\n",
       "    </tr>\n",
       "    <tr>\n",
       "      <td>top</td>\n",
       "      <td>2019-10-19 05:31:19.808163</td>\n",
       "      <td>tips_show</td>\n",
       "      <td>cb36854f-570a-41f4-baa8-36680b396370</td>\n",
       "    </tr>\n",
       "    <tr>\n",
       "      <td>freq</td>\n",
       "      <td>1</td>\n",
       "      <td>40055</td>\n",
       "      <td>478</td>\n",
       "    </tr>\n",
       "  </tbody>\n",
       "</table>\n",
       "</div>"
      ],
      "text/plain": [
       "                        event.time event.name  \\\n",
       "count                        74197      74197   \n",
       "unique                       74197         16   \n",
       "top     2019-10-19 05:31:19.808163  tips_show   \n",
       "freq                             1      40055   \n",
       "\n",
       "                                     user.id  \n",
       "count                                  74197  \n",
       "unique                                  4293  \n",
       "top     cb36854f-570a-41f4-baa8-36680b396370  \n",
       "freq                                     478  "
      ]
     },
     "execution_count": 5,
     "metadata": {},
     "output_type": "execute_result"
    }
   ],
   "source": [
    "event_data.describe()"
   ]
  },
  {
   "cell_type": "markdown",
   "metadata": {},
   "source": [
    "Переименую стоблцы для упрощения работы:"
   ]
  },
  {
   "cell_type": "code",
   "execution_count": 6,
   "metadata": {},
   "outputs": [],
   "source": [
    "event_data = event_data.rename({'user.id':'id', 'event.time':'time', 'event.name':'event'}, axis=1)"
   ]
  },
  {
   "cell_type": "markdown",
   "metadata": {},
   "source": [
    "Проверяю на дубли:"
   ]
  },
  {
   "cell_type": "code",
   "execution_count": 7,
   "metadata": {},
   "outputs": [
    {
     "data": {
      "text/plain": [
       "0"
      ]
     },
     "execution_count": 7,
     "metadata": {},
     "output_type": "execute_result"
    }
   ],
   "source": [
    "event_data.duplicated().sum()"
   ]
  },
  {
   "cell_type": "markdown",
   "metadata": {},
   "source": [
    "Привожу столбец времени к нужному типу:"
   ]
  },
  {
   "cell_type": "code",
   "execution_count": 8,
   "metadata": {},
   "outputs": [],
   "source": [
    "event_data['time'] = pd.to_datetime(event_data['time'])"
   ]
  },
  {
   "cell_type": "markdown",
   "metadata": {},
   "source": [
    "Смотрю, за какой период есть данные:"
   ]
  },
  {
   "cell_type": "code",
   "execution_count": 9,
   "metadata": {},
   "outputs": [
    {
     "name": "stdout",
     "output_type": "stream",
     "text": [
      "Минимальное время события 2019-10-07 00:00:00.431357\n",
      "Максимальное время события 2019-11-03 23:58:12.532487\n"
     ]
    }
   ],
   "source": [
    "print('Минимальное время события', event_data['time'].min())\n",
    "print('Максимальное время события', event_data['time'].max())"
   ]
  },
  {
   "cell_type": "markdown",
   "metadata": {},
   "source": [
    "Добавлю столбцы с часом, днём, неделей и полной датой события:"
   ]
  },
  {
   "cell_type": "code",
   "execution_count": 10,
   "metadata": {},
   "outputs": [],
   "source": [
    "event_data['hour'] = event_data['time'].dt.hour \n",
    "event_data['day'] = event_data['time'].dt.weekday\n",
    "event_data['week'] = event_data['time'].astype('datetime64[W]') \n",
    "event_data['date'] = event_data['time'].astype('datetime64[D]') "
   ]
  },
  {
   "cell_type": "markdown",
   "metadata": {},
   "source": [
    "Заменяю значения show_contacts на contacts_show, так как они означают одно и тоже"
   ]
  },
  {
   "cell_type": "code",
   "execution_count": 11,
   "metadata": {},
   "outputs": [],
   "source": [
    "event_data.loc[(event_data['event'] == \"show_contacts\"), 'event'] = \"contacts_show\""
   ]
  },
  {
   "cell_type": "markdown",
   "metadata": {},
   "source": [
    "Имеем датафрейм event_data на 74197 строк, содержащий информацию о ID пользователя, названии и времени события. \n",
    "\n",
    "Пропущенных значений нет, дубликатов нет. Столбец с временем события привёл к нужному типу.\n",
    "\n",
    "Видим, что данные представлены почти за месяц: с 7 октября по третье ноября. "
   ]
  },
  {
   "cell_type": "markdown",
   "metadata": {},
   "source": [
    "### Изучу основную информацию по таблице source_data:"
   ]
  },
  {
   "cell_type": "code",
   "execution_count": 12,
   "metadata": {},
   "outputs": [
    {
     "data": {
      "text/html": [
       "<div>\n",
       "<style scoped>\n",
       "    .dataframe tbody tr th:only-of-type {\n",
       "        vertical-align: middle;\n",
       "    }\n",
       "\n",
       "    .dataframe tbody tr th {\n",
       "        vertical-align: top;\n",
       "    }\n",
       "\n",
       "    .dataframe thead th {\n",
       "        text-align: right;\n",
       "    }\n",
       "</style>\n",
       "<table border=\"1\" class=\"dataframe\">\n",
       "  <thead>\n",
       "    <tr style=\"text-align: right;\">\n",
       "      <th></th>\n",
       "      <th>userId</th>\n",
       "      <th>source</th>\n",
       "    </tr>\n",
       "  </thead>\n",
       "  <tbody>\n",
       "    <tr>\n",
       "      <td>0</td>\n",
       "      <td>020292ab-89bc-4156-9acf-68bc2783f894</td>\n",
       "      <td>other</td>\n",
       "    </tr>\n",
       "    <tr>\n",
       "      <td>1</td>\n",
       "      <td>cf7eda61-9349-469f-ac27-e5b6f5ec475c</td>\n",
       "      <td>yandex</td>\n",
       "    </tr>\n",
       "    <tr>\n",
       "      <td>2</td>\n",
       "      <td>8c356c42-3ba9-4cb6-80b8-3f868d0192c3</td>\n",
       "      <td>yandex</td>\n",
       "    </tr>\n",
       "    <tr>\n",
       "      <td>3</td>\n",
       "      <td>d9b06b47-0f36-419b-bbb0-3533e582a6cb</td>\n",
       "      <td>other</td>\n",
       "    </tr>\n",
       "    <tr>\n",
       "      <td>4</td>\n",
       "      <td>f32e1e2a-3027-4693-b793-b7b3ff274439</td>\n",
       "      <td>google</td>\n",
       "    </tr>\n",
       "  </tbody>\n",
       "</table>\n",
       "</div>"
      ],
      "text/plain": [
       "                                 userId  source\n",
       "0  020292ab-89bc-4156-9acf-68bc2783f894   other\n",
       "1  cf7eda61-9349-469f-ac27-e5b6f5ec475c  yandex\n",
       "2  8c356c42-3ba9-4cb6-80b8-3f868d0192c3  yandex\n",
       "3  d9b06b47-0f36-419b-bbb0-3533e582a6cb   other\n",
       "4  f32e1e2a-3027-4693-b793-b7b3ff274439  google"
      ]
     },
     "execution_count": 12,
     "metadata": {},
     "output_type": "execute_result"
    }
   ],
   "source": [
    "source_data.head(5)"
   ]
  },
  {
   "cell_type": "code",
   "execution_count": 13,
   "metadata": {},
   "outputs": [
    {
     "name": "stdout",
     "output_type": "stream",
     "text": [
      "<class 'pandas.core.frame.DataFrame'>\n",
      "RangeIndex: 4293 entries, 0 to 4292\n",
      "Data columns (total 2 columns):\n",
      "userId    4293 non-null object\n",
      "source    4293 non-null object\n",
      "dtypes: object(2)\n",
      "memory usage: 67.2+ KB\n"
     ]
    }
   ],
   "source": [
    "source_data.info()"
   ]
  },
  {
   "cell_type": "code",
   "execution_count": 14,
   "metadata": {},
   "outputs": [
    {
     "data": {
      "text/html": [
       "<div>\n",
       "<style scoped>\n",
       "    .dataframe tbody tr th:only-of-type {\n",
       "        vertical-align: middle;\n",
       "    }\n",
       "\n",
       "    .dataframe tbody tr th {\n",
       "        vertical-align: top;\n",
       "    }\n",
       "\n",
       "    .dataframe thead th {\n",
       "        text-align: right;\n",
       "    }\n",
       "</style>\n",
       "<table border=\"1\" class=\"dataframe\">\n",
       "  <thead>\n",
       "    <tr style=\"text-align: right;\">\n",
       "      <th></th>\n",
       "      <th>userId</th>\n",
       "      <th>source</th>\n",
       "    </tr>\n",
       "  </thead>\n",
       "  <tbody>\n",
       "    <tr>\n",
       "      <td>count</td>\n",
       "      <td>4293</td>\n",
       "      <td>4293</td>\n",
       "    </tr>\n",
       "    <tr>\n",
       "      <td>unique</td>\n",
       "      <td>4293</td>\n",
       "      <td>3</td>\n",
       "    </tr>\n",
       "    <tr>\n",
       "      <td>top</td>\n",
       "      <td>8fde8f3d-b39b-4d5e-9180-b193f295cb03</td>\n",
       "      <td>yandex</td>\n",
       "    </tr>\n",
       "    <tr>\n",
       "      <td>freq</td>\n",
       "      <td>1</td>\n",
       "      <td>1934</td>\n",
       "    </tr>\n",
       "  </tbody>\n",
       "</table>\n",
       "</div>"
      ],
      "text/plain": [
       "                                      userId  source\n",
       "count                                   4293    4293\n",
       "unique                                  4293       3\n",
       "top     8fde8f3d-b39b-4d5e-9180-b193f295cb03  yandex\n",
       "freq                                       1    1934"
      ]
     },
     "execution_count": 14,
     "metadata": {},
     "output_type": "execute_result"
    }
   ],
   "source": [
    "source_data.describe()"
   ]
  },
  {
   "cell_type": "markdown",
   "metadata": {},
   "source": [
    "Переименовываю столбец userId, чтобы все символы были строчными, а работать с таблицей было удобнее:"
   ]
  },
  {
   "cell_type": "code",
   "execution_count": 15,
   "metadata": {},
   "outputs": [],
   "source": [
    "source_data = source_data.rename({'userId':'id'}, axis=1)"
   ]
  },
  {
   "cell_type": "markdown",
   "metadata": {},
   "source": [
    "Смотрю число дублей:"
   ]
  },
  {
   "cell_type": "code",
   "execution_count": 16,
   "metadata": {},
   "outputs": [
    {
     "data": {
      "text/plain": [
       "0"
      ]
     },
     "execution_count": 16,
     "metadata": {},
     "output_type": "execute_result"
    }
   ],
   "source": [
    "source_data.duplicated().sum()"
   ]
  },
  {
   "cell_type": "markdown",
   "metadata": {},
   "source": [
    "### Вывод по шагу 1"
   ]
  },
  {
   "cell_type": "markdown",
   "metadata": {},
   "source": [
    "В датафрейме source_data 4293 строки, что равняется числу уникальных ID пользователей из таблицы event_data. Содержит информацию об ID пользователя и источнике, из которого он был привлёчен. \n",
    "\n",
    "Пропусков нет, дубликатов нет в обоих таблицах. \n",
    "\n",
    "Для таблицы с событиями изменил тип данных стобца даты и времени, посчитал отдельно день недели, неделю и дату события для дальнейшего анализа."
   ]
  },
  {
   "cell_type": "markdown",
   "metadata": {},
   "source": [
    "## Исследовательский анализ данных"
   ]
  },
  {
   "cell_type": "markdown",
   "metadata": {},
   "source": [
    "### Смотрю, сколько клиентов из каких источников пришли"
   ]
  },
  {
   "cell_type": "code",
   "execution_count": 17,
   "metadata": {},
   "outputs": [
    {
     "data": {
      "text/plain": [
       "source\n",
       "google    1129\n",
       "other     1230\n",
       "yandex    1934\n",
       "Name: id, dtype: int64"
      ]
     },
     "execution_count": 17,
     "metadata": {},
     "output_type": "execute_result"
    }
   ],
   "source": [
    "source_data['id'].groupby([source_data['source']]).count()"
   ]
  },
  {
   "cell_type": "markdown",
   "metadata": {},
   "source": [
    "Смотрю, какое число раз действия совершались пользователями: "
   ]
  },
  {
   "cell_type": "code",
   "execution_count": 18,
   "metadata": {},
   "outputs": [
    {
     "data": {
      "text/plain": [
       "event\n",
       "tips_show        40055\n",
       "photos_show      10012\n",
       "advert_open       6164\n",
       "contacts_show     4529\n",
       "map               3881\n",
       "search_1          3506\n",
       "favorites_add     1417\n",
       "search_5          1049\n",
       "tips_click         814\n",
       "search_4           701\n",
       "contacts_call      541\n",
       "search_3           522\n",
       "search_6           460\n",
       "search_2           324\n",
       "search_7           222\n",
       "Name: event, dtype: int64"
      ]
     },
     "execution_count": 18,
     "metadata": {},
     "output_type": "execute_result"
    }
   ],
   "source": [
    "event_data['event'].groupby([event_data['event']]).count().sort_values(ascending=False)"
   ]
  },
  {
   "cell_type": "code",
   "execution_count": 19,
   "metadata": {},
   "outputs": [],
   "source": [
    "#добавляю данные ою источниках в таблицу с событиями\n",
    "event_data = event_data.merge(source_data, on = 'id')"
   ]
  },
  {
   "cell_type": "code",
   "execution_count": 20,
   "metadata": {},
   "outputs": [],
   "source": [
    "#избавляюсь от алёрта в графике\n",
    "import warnings\n",
    "warnings.filterwarnings('ignore')"
   ]
  },
  {
   "cell_type": "markdown",
   "metadata": {},
   "source": [
    "### Распределение событий по дням"
   ]
  },
  {
   "cell_type": "code",
   "execution_count": 21,
   "metadata": {},
   "outputs": [
    {
     "data": {
      "image/png": "[encoded data removed]",
      "text/plain": [
       "<Figure size 1080x432 with 1 Axes>"
      ]
     },
     "metadata": {},
     "output_type": "display_data"
    }
   ],
   "source": [
    "#строю график распределения событий по дням\n",
    "\n",
    "events_by_day = event_data.groupby('date', as_index=False).agg({'id':'count'})\n",
    "\n",
    "plt.figure(figsize=(15,6))\n",
    "with plt.style.context('seaborn-pastel'):\n",
    "    plt.bar(events_by_day['date'], events_by_day['id'])\n",
    "plt.xlabel('День')\n",
    "plt.ylabel('Число событий')\n",
    "plt.title('Распределение событий по дням')\n",
    "plt.xticks(rotation=45)\n",
    "plt.grid(True)\n",
    "plt.show();"
   ]
  },
  {
   "cell_type": "markdown",
   "metadata": {},
   "source": [
    "Сильных выбросов по дням не заметно. Самый активный день -- 23 октября, а самый спокойный -- выходные 12 октбяря и 2 ноября. "
   ]
  },
  {
   "cell_type": "code",
   "execution_count": 22,
   "metadata": {},
   "outputs": [],
   "source": [
    "#Посмотрю, как распределение ведёт себя в зависимости от источника:\n",
    "\n",
    "yandex_data = event_data.query('source == \"yandex\"')\n",
    "google_data = event_data.query('source == \"google\"')\n",
    "other_data = event_data.query('source == \"other\"')\n",
    "\n",
    "yandex_by_day = yandex_data.groupby('date', as_index=False).agg({'id':'count'})\n",
    "google_by_day = google_data.groupby('date', as_index=False).agg({'id':'count'})\n",
    "other_by_day = other_data.groupby('date', as_index=False).agg({'id':'count'})"
   ]
  },
  {
   "cell_type": "code",
   "execution_count": 23,
   "metadata": {},
   "outputs": [
    {
     "data": {
      "image/png": "[encoded data removed]",
      "text/plain": [
       "<Figure size 1080x720 with 1 Axes>"
      ]
     },
     "metadata": {},
     "output_type": "display_data"
    }
   ],
   "source": [
    "#Строю график распределения событий по дням в зависимости от источника\n",
    "\n",
    "plt.figure(figsize=(15,10)) \n",
    "plt.title('Разспеределение событий из источников по дням')\n",
    "plt.bar(yandex_by_day['date'], yandex_by_day['id'], alpha=.5)\n",
    "plt.bar(google_by_day['date'], google_by_day['id'], alpha=.5)\n",
    "plt.bar(other_by_day['date'], other_by_day['id'], alpha=.5)\n",
    "plt.legend(['Яндекс', 'Гугл', 'Другие'])\n",
    "plt.xticks(rotation=45)\n",
    "plt.show()"
   ]
  },
  {
   "cell_type": "markdown",
   "metadata": {},
   "source": [
    "Видим довольно ровное поведение пользователей, без явных аномалий. \n",
    "Больше всего действий стабильно приходится на Яндекс. "
   ]
  },
  {
   "cell_type": "markdown",
   "metadata": {},
   "source": [
    "### Разделяю события на сессии"
   ]
  },
  {
   "cell_type": "markdown",
   "metadata": {},
   "source": [
    "Найду данные по клиентским сессиям. Посчитаю, что если действия совершались в течение одного часа -- они относятся к одной сессии: "
   ]
  },
  {
   "cell_type": "code",
   "execution_count": 24,
   "metadata": {},
   "outputs": [],
   "source": [
    "#сначала нахожу время начала и конца сессии в пределах часа:\n",
    "\n",
    "session_time_min = event_data.groupby(['id', 'date', 'hour'], as_index=False).agg({'time':'min'})\n",
    "session_time_max = event_data.groupby(['id', 'date', 'hour'], as_index=False).agg({'time':'max'})\n",
    "\n",
    "session_time_min = session_time_min.rename(columns={'time':'session_start'})\n",
    "session_time_max = session_time_max.rename(columns={'time':'session_stop'})"
   ]
  },
  {
   "cell_type": "code",
   "execution_count": 25,
   "metadata": {},
   "outputs": [
    {
     "name": "stdout",
     "output_type": "stream",
     "text": [
      "Всего получили 12432 сессий\n"
     ]
    }
   ],
   "source": [
    "#затем считаю продолжительность и число сессий:\n",
    "\n",
    "session_info =  pd.merge(session_time_min, session_time_max, on=['id', 'date', 'hour'])\n",
    "\n",
    "session_info['duration'] = session_info['session_stop'] - session_info['session_start']\n",
    "\n",
    "print('Всего получили', len(session_info), 'сессий')"
   ]
  },
  {
   "cell_type": "code",
   "execution_count": 26,
   "metadata": {},
   "outputs": [],
   "source": [
    "#Считаю суммарное время, проведённое пользователем в приложении: \n",
    "\n",
    "session_info['duration'] = session_info['duration'].astype('timedelta64[s]') / 60"
   ]
  },
  {
   "cell_type": "markdown",
   "metadata": {},
   "source": [
    "Собираю информацию по клиентским сессиям в одну таблицу: "
   ]
  },
  {
   "cell_type": "code",
   "execution_count": 27,
   "metadata": {},
   "outputs": [],
   "source": [
    "#Создаю новый датафрейм\n",
    "user_info = pd.DataFrame()\n",
    "user_info['id'] = event_data['id'].unique()\n",
    "\n",
    "#Считаю число сессий на клиента:\n",
    "sessions_per_user = session_info.groupby('id', as_index=False).agg({'duration':'count'})\n",
    "sessions_per_user = sessions_per_user.rename(columns={'duration':'count_of_sessions'})\n",
    "\n",
    "#Считаю продолжительность сессий на клиента:\n",
    "#duration_per_user = session_info.groupby('id', as_index=False).agg({'duration':'sum'})\n",
    "#duration_per_user = duration_per_user.rename(columns={'duration':'duration_sum'})"
   ]
  },
  {
   "cell_type": "code",
   "execution_count": 28,
   "metadata": {},
   "outputs": [],
   "source": [
    "#Обогощаю таблицу:\n",
    "\n",
    "user_info = user_info.merge(sessions_per_user, on='id')\n",
    "#user_info = user_info.merge(duration_per_user, on='id')\n",
    "user_info = user_info.merge(source_data, on='id')"
   ]
  },
  {
   "cell_type": "code",
   "execution_count": 29,
   "metadata": {},
   "outputs": [],
   "source": [
    "count_of_events = event_data.groupby(['id'], as_index=False).agg({'event':'count'})\n",
    "count_of_events = count_of_events.rename(columns={'event':'event_count'})"
   ]
  },
  {
   "cell_type": "code",
   "execution_count": 30,
   "metadata": {},
   "outputs": [
    {
     "data": {
      "text/plain": [
       "74197"
      ]
     },
     "execution_count": 30,
     "metadata": {},
     "output_type": "execute_result"
    }
   ],
   "source": [
    "count_of_events['event_count'].sum()"
   ]
  },
  {
   "cell_type": "code",
   "execution_count": 31,
   "metadata": {},
   "outputs": [],
   "source": [
    "user_info = user_info.merge(count_of_events, on='id', how='left')"
   ]
  },
  {
   "cell_type": "code",
   "execution_count": 32,
   "metadata": {},
   "outputs": [
    {
     "data": {
      "text/html": [
       "<div>\n",
       "<style scoped>\n",
       "    .dataframe tbody tr th:only-of-type {\n",
       "        vertical-align: middle;\n",
       "    }\n",
       "\n",
       "    .dataframe tbody tr th {\n",
       "        vertical-align: top;\n",
       "    }\n",
       "\n",
       "    .dataframe thead th {\n",
       "        text-align: right;\n",
       "    }\n",
       "</style>\n",
       "<table border=\"1\" class=\"dataframe\">\n",
       "  <thead>\n",
       "    <tr style=\"text-align: right;\">\n",
       "      <th></th>\n",
       "      <th>id</th>\n",
       "      <th>count_of_sessions</th>\n",
       "      <th>source</th>\n",
       "      <th>event_count</th>\n",
       "    </tr>\n",
       "  </thead>\n",
       "  <tbody>\n",
       "    <tr>\n",
       "      <td>0</td>\n",
       "      <td>020292ab-89bc-4156-9acf-68bc2783f894</td>\n",
       "      <td>1</td>\n",
       "      <td>other</td>\n",
       "      <td>28</td>\n",
       "    </tr>\n",
       "    <tr>\n",
       "      <td>1</td>\n",
       "      <td>cf7eda61-9349-469f-ac27-e5b6f5ec475c</td>\n",
       "      <td>10</td>\n",
       "      <td>yandex</td>\n",
       "      <td>93</td>\n",
       "    </tr>\n",
       "    <tr>\n",
       "      <td>2</td>\n",
       "      <td>8c356c42-3ba9-4cb6-80b8-3f868d0192c3</td>\n",
       "      <td>5</td>\n",
       "      <td>yandex</td>\n",
       "      <td>96</td>\n",
       "    </tr>\n",
       "    <tr>\n",
       "      <td>3</td>\n",
       "      <td>d9b06b47-0f36-419b-bbb0-3533e582a6cb</td>\n",
       "      <td>3</td>\n",
       "      <td>other</td>\n",
       "      <td>8</td>\n",
       "    </tr>\n",
       "    <tr>\n",
       "      <td>4</td>\n",
       "      <td>f32e1e2a-3027-4693-b793-b7b3ff274439</td>\n",
       "      <td>1</td>\n",
       "      <td>google</td>\n",
       "      <td>33</td>\n",
       "    </tr>\n",
       "  </tbody>\n",
       "</table>\n",
       "</div>"
      ],
      "text/plain": [
       "                                     id  count_of_sessions  source  \\\n",
       "0  020292ab-89bc-4156-9acf-68bc2783f894                  1   other   \n",
       "1  cf7eda61-9349-469f-ac27-e5b6f5ec475c                 10  yandex   \n",
       "2  8c356c42-3ba9-4cb6-80b8-3f868d0192c3                  5  yandex   \n",
       "3  d9b06b47-0f36-419b-bbb0-3533e582a6cb                  3   other   \n",
       "4  f32e1e2a-3027-4693-b793-b7b3ff274439                  1  google   \n",
       "\n",
       "   event_count  \n",
       "0           28  \n",
       "1           93  \n",
       "2           96  \n",
       "3            8  \n",
       "4           33  "
      ]
     },
     "execution_count": 32,
     "metadata": {},
     "output_type": "execute_result"
    }
   ],
   "source": [
    "user_info.head(5)"
   ]
  },
  {
   "cell_type": "code",
   "execution_count": 33,
   "metadata": {},
   "outputs": [
    {
     "data": {
      "text/plain": [
       "74197"
      ]
     },
     "execution_count": 33,
     "metadata": {},
     "output_type": "execute_result"
    }
   ],
   "source": [
    "user_info['event_count'].sum()"
   ]
  },
  {
   "cell_type": "markdown",
   "metadata": {},
   "source": [
    "Визуализирую, как много сессий совершают пользователи:"
   ]
  },
  {
   "cell_type": "code",
   "execution_count": 34,
   "metadata": {},
   "outputs": [
    {
     "data": {
      "image/png": "[encoded data removed]",
      "text/plain": [
       "<Figure size 720x360 with 1 Axes>"
      ]
     },
     "metadata": {},
     "output_type": "display_data"
    }
   ],
   "source": [
    "plt.figure(figsize=(10,5))\n",
    "user_info['count_of_sessions'].hist(bins=10)\n",
    "plt.title('Распределение признака count_of_sessions')\n",
    "plt.xlabel('Число сессия')\n",
    "plt.ylabel('Количество пользователей')\n",
    "plt.show();"
   ]
  },
  {
   "cell_type": "markdown",
   "metadata": {},
   "source": [
    "Судя по графику, есть небольшая доля пользователей, совершающих больше 100 сессий. Проверим: "
   ]
  },
  {
   "cell_type": "code",
   "execution_count": 35,
   "metadata": {},
   "outputs": [
    {
     "data": {
      "text/plain": [
       "1      1682\n",
       "2      1226\n",
       "3       488\n",
       "4       311\n",
       "5       178\n",
       "6        96\n",
       "7        80\n",
       "8        35\n",
       "9        34\n",
       "10       24\n",
       "11       23\n",
       "12       15\n",
       "14       12\n",
       "13       12\n",
       "15       10\n",
       "16        9\n",
       "19        8\n",
       "17        5\n",
       "24        5\n",
       "18        4\n",
       "20        3\n",
       "21        3\n",
       "25        3\n",
       "29        2\n",
       "30        2\n",
       "33        2\n",
       "37        2\n",
       "32        2\n",
       "31        2\n",
       "36        1\n",
       "76        1\n",
       "28        1\n",
       "40        1\n",
       "55        1\n",
       "47        1\n",
       "53        1\n",
       "113       1\n",
       "22        1\n",
       "26        1\n",
       "54        1\n",
       "23        1\n",
       "27        1\n",
       "35        1\n",
       "41        1\n",
       "Name: count_of_sessions, dtype: int64"
      ]
     },
     "execution_count": 35,
     "metadata": {},
     "output_type": "execute_result"
    }
   ],
   "source": [
    "user_info['count_of_sessions'].value_counts()"
   ]
  },
  {
   "cell_type": "markdown",
   "metadata": {},
   "source": [
    "Видим, что есть всего один клиент, совершивший 113 сессий за анализируемый период. Может быть, это наш тестировщик или разработчик?"
   ]
  },
  {
   "cell_type": "markdown",
   "metadata": {},
   "source": [
    "### Поиск фродера"
   ]
  },
  {
   "cell_type": "code",
   "execution_count": 36,
   "metadata": {},
   "outputs": [
    {
     "data": {
      "text/plain": [
       "605    21230dd9-2f7f-4b77-a436-43d4d10388e0\n",
       "Name: id, dtype: object"
      ]
     },
     "execution_count": 36,
     "metadata": {},
     "output_type": "execute_result"
    }
   ],
   "source": [
    "#Ищу пользователя по id\n",
    "user_info['id'].loc[user_info['count_of_sessions'] == 113]"
   ]
  },
  {
   "cell_type": "code",
   "execution_count": 37,
   "metadata": {},
   "outputs": [
    {
     "data": {
      "text/plain": [
       "400"
      ]
     },
     "execution_count": 37,
     "metadata": {},
     "output_type": "execute_result"
    }
   ],
   "source": [
    "who_is_it = event_data.query('id == \"21230dd9-2f7f-4b77-a436-43d4d10388e0\"')\n",
    "who_is_it['event'].count()"
   ]
  },
  {
   "cell_type": "markdown",
   "metadata": {},
   "source": [
    "Видим, что за месяц наш активист совершил аж 400 действий, посмотрим точнее, что он делал: "
   ]
  },
  {
   "cell_type": "code",
   "execution_count": 38,
   "metadata": {},
   "outputs": [
    {
     "data": {
      "text/plain": [
       "tips_show        346\n",
       "contacts_show     43\n",
       "map                9\n",
       "tips_click         1\n",
       "favorites_add      1\n",
       "Name: event, dtype: int64"
      ]
     },
     "execution_count": 38,
     "metadata": {},
     "output_type": "execute_result"
    }
   ],
   "source": [
    "#смотрю, какие именно действия он совершает:\n",
    "who_is_it['event'].value_counts()"
   ]
  },
  {
   "cell_type": "markdown",
   "metadata": {},
   "source": [
    "А вот и ответ! Это бот, который отсматривает рекламу и ворует бюджеты у наших b2b клиентов. Из анализа его удаляем, а в СБ отправляем id для парманентного бана."
   ]
  },
  {
   "cell_type": "code",
   "execution_count": 39,
   "metadata": {},
   "outputs": [],
   "source": [
    "user_info = user_info.query('count_of_sessions < 100')"
   ]
  },
  {
   "cell_type": "code",
   "execution_count": 40,
   "metadata": {},
   "outputs": [
    {
     "data": {
      "image/png": "[encoded data removed]",
      "text/plain": [
       "<Figure size 1440x720 with 1 Axes>"
      ]
     },
     "metadata": {},
     "output_type": "display_data"
    }
   ],
   "source": [
    "#строю укрупнённый график распределения числа сессий\n",
    "\n",
    "plt.figure(figsize=(20,10))\n",
    "user_info['count_of_sessions'].hist(bins=20, range =(1, 20))\n",
    "plt.title('Распределение признака count_of_sessions')\n",
    "plt.xlabel('Число сессий')\n",
    "plt.ylabel('Количество пользователей')\n",
    "plt.show();"
   ]
  },
  {
   "cell_type": "markdown",
   "metadata": {},
   "source": [
    "Хоть мы и поймали злоумышленника, но в целом картина не сильно изменилась. Всё ещё есть пользователи с числом сессий около 50. Посчитаем, что это очень лояльные пользователи."
   ]
  },
  {
   "cell_type": "markdown",
   "metadata": {},
   "source": [
    "### Считаю lifetime"
   ]
  },
  {
   "cell_type": "markdown",
   "metadata": {},
   "source": [
    "Посчитаем, как долго пользователь пользуется приложением: "
   ]
  },
  {
   "cell_type": "code",
   "execution_count": 41,
   "metadata": {},
   "outputs": [],
   "source": [
    "#Считаю время, когда пользователь зашел в приложение в первый раз, и когда в последний:\n",
    "start_time = event_data.groupby(['id'], as_index=False).agg({'time':'min'})\n",
    "start_time = start_time.rename(columns={'time':'start_at'})\n",
    "\n",
    "stop_time = event_data.groupby(['id'], as_index=False).agg({'time':'max'})\n",
    "stop_time = stop_time.rename(columns={'time':'stop_at'})"
   ]
  },
  {
   "cell_type": "code",
   "execution_count": 42,
   "metadata": {},
   "outputs": [],
   "source": [
    "#Добавляю столбцы с датами в таблицу:\n",
    "user_info = user_info.merge(start_time, on='id')\n",
    "user_info = user_info.merge(stop_time, on='id')\n",
    "\n",
    "#Считаю лайфтайм клиента\n",
    "user_info['lifetime'] = user_info['stop_at'] - user_info['start_at']\n",
    "user_info = user_info.drop(['stop_at', 'start_at'], axis=1)\n",
    "\n",
    "#Перевожу лайфтайм в минуты\n",
    "user_info['lifetime'] = user_info['lifetime'].astype('timedelta64[s]') / 60 "
   ]
  },
  {
   "cell_type": "code",
   "execution_count": 43,
   "metadata": {},
   "outputs": [
    {
     "data": {
      "text/plain": [
       "3787.1623019571293"
      ]
     },
     "execution_count": 43,
     "metadata": {},
     "output_type": "execute_result"
    }
   ],
   "source": [
    "user_info['lifetime'].mean()"
   ]
  },
  {
   "cell_type": "markdown",
   "metadata": {},
   "source": [
    "### Считаю число целевых действий"
   ]
  },
  {
   "cell_type": "markdown",
   "metadata": {},
   "source": [
    "Посчитаем для каждого пользователя число раз, когда тот совершил целевое действие -- просмотр контактов:"
   ]
  },
  {
   "cell_type": "code",
   "execution_count": 44,
   "metadata": {},
   "outputs": [
    {
     "data": {
      "text/html": [
       "<div>\n",
       "<style scoped>\n",
       "    .dataframe tbody tr th:only-of-type {\n",
       "        vertical-align: middle;\n",
       "    }\n",
       "\n",
       "    .dataframe tbody tr th {\n",
       "        vertical-align: top;\n",
       "    }\n",
       "\n",
       "    .dataframe thead th {\n",
       "        text-align: right;\n",
       "    }\n",
       "</style>\n",
       "<table border=\"1\" class=\"dataframe\">\n",
       "  <thead>\n",
       "    <tr style=\"text-align: right;\">\n",
       "      <th></th>\n",
       "      <th>id</th>\n",
       "      <th>open_contact</th>\n",
       "    </tr>\n",
       "  </thead>\n",
       "  <tbody>\n",
       "    <tr>\n",
       "      <td>0</td>\n",
       "      <td>00157779-810c-4498-9e05-a1e9e3cedf93</td>\n",
       "      <td>11</td>\n",
       "    </tr>\n",
       "    <tr>\n",
       "      <td>1</td>\n",
       "      <td>00551e79-152e-4441-9cf7-565d7eb04090</td>\n",
       "      <td>3</td>\n",
       "    </tr>\n",
       "    <tr>\n",
       "      <td>2</td>\n",
       "      <td>005fbea5-2678-406f-88a6-fbe9787e2268</td>\n",
       "      <td>3</td>\n",
       "    </tr>\n",
       "    <tr>\n",
       "      <td>3</td>\n",
       "      <td>00753c79-ea81-4456-acd0-a47a23ca2fb9</td>\n",
       "      <td>1</td>\n",
       "    </tr>\n",
       "    <tr>\n",
       "      <td>4</td>\n",
       "      <td>007d031d-5018-4e02-b7ee-72a30609173f</td>\n",
       "      <td>2</td>\n",
       "    </tr>\n",
       "    <tr>\n",
       "      <td>...</td>\n",
       "      <td>...</td>\n",
       "      <td>...</td>\n",
       "    </tr>\n",
       "    <tr>\n",
       "      <td>976</td>\n",
       "      <td>fee3ba1c-16f4-46f7-bf56-4bf80cc4e2f5</td>\n",
       "      <td>17</td>\n",
       "    </tr>\n",
       "    <tr>\n",
       "      <td>977</td>\n",
       "      <td>ff1554b5-919e-40b1-90bb-ee1f7f6d5846</td>\n",
       "      <td>1</td>\n",
       "    </tr>\n",
       "    <tr>\n",
       "      <td>978</td>\n",
       "      <td>ffc01466-fdb1-4460-ae94-e800f52eb136</td>\n",
       "      <td>1</td>\n",
       "    </tr>\n",
       "    <tr>\n",
       "      <td>979</td>\n",
       "      <td>ffe68f10-e48e-470e-be9b-eeb93128ff1a</td>\n",
       "      <td>1</td>\n",
       "    </tr>\n",
       "    <tr>\n",
       "      <td>980</td>\n",
       "      <td>fffb9e79-b927-4dbb-9b48-7fd09b23a62b</td>\n",
       "      <td>68</td>\n",
       "    </tr>\n",
       "  </tbody>\n",
       "</table>\n",
       "<p>981 rows × 2 columns</p>\n",
       "</div>"
      ],
      "text/plain": [
       "                                       id  open_contact\n",
       "0    00157779-810c-4498-9e05-a1e9e3cedf93            11\n",
       "1    00551e79-152e-4441-9cf7-565d7eb04090             3\n",
       "2    005fbea5-2678-406f-88a6-fbe9787e2268             3\n",
       "3    00753c79-ea81-4456-acd0-a47a23ca2fb9             1\n",
       "4    007d031d-5018-4e02-b7ee-72a30609173f             2\n",
       "..                                    ...           ...\n",
       "976  fee3ba1c-16f4-46f7-bf56-4bf80cc4e2f5            17\n",
       "977  ff1554b5-919e-40b1-90bb-ee1f7f6d5846             1\n",
       "978  ffc01466-fdb1-4460-ae94-e800f52eb136             1\n",
       "979  ffe68f10-e48e-470e-be9b-eeb93128ff1a             1\n",
       "980  fffb9e79-b927-4dbb-9b48-7fd09b23a62b            68\n",
       "\n",
       "[981 rows x 2 columns]"
      ]
     },
     "execution_count": 44,
     "metadata": {},
     "output_type": "execute_result"
    }
   ],
   "source": [
    "open_contact = event_data.query('event == \"contacts_show\"').groupby('id', as_index=False).agg({'event':'count'})\n",
    "open_contact = open_contact.rename(columns={'event':'open_contact'})\n",
    "open_contact"
   ]
  },
  {
   "cell_type": "markdown",
   "metadata": {},
   "source": [
    "Получили, что целевое действие совершил 981 пользователь. "
   ]
  },
  {
   "cell_type": "markdown",
   "metadata": {},
   "source": [
    "Добавлю данные в общую таблицу:"
   ]
  },
  {
   "cell_type": "code",
   "execution_count": 45,
   "metadata": {},
   "outputs": [],
   "source": [
    "#Добавляю информацию о числе целевых действий на клиента в табилцу\n",
    "\n",
    "user_info = user_info.merge(open_contact, on='id', how='left')\n",
    "user_info['open_contact'] = user_info['open_contact'].fillna(0)"
   ]
  },
  {
   "cell_type": "markdown",
   "metadata": {},
   "source": [
    "На мой взгляд, факта совершения целевого действия (просмотр контактов) недостаточно для анализа вовлеченности юзера. \n",
    "Посчитаю, что если пользователь добавил объевление в избранное и позвонил по номеру телефона -- это точно наш клиент: "
   ]
  },
  {
   "cell_type": "code",
   "execution_count": 46,
   "metadata": {},
   "outputs": [],
   "source": [
    "#Ищу, сколько раз каждый клиент позвонил из приложения и добавил карточку в избранное:\n",
    "\n",
    "contacts_call = event_data.query('event==\"contacts_call\"').groupby('id', as_index=False).agg({'event':'count'})\n",
    "favorites_add = event_data.query('event==\"favorites_add\"').groupby('id', as_index=False).agg({'event':'count'})"
   ]
  },
  {
   "cell_type": "code",
   "execution_count": 47,
   "metadata": {},
   "outputs": [],
   "source": [
    "#Переименовываю стобцы \n",
    "contacts_call.columns = ['id', 'calls']\n",
    "favorites_add.columns = ['id', 'add_to_favorites']\n",
    "\n",
    "\n",
    "#Добавляю информацию о действиях в таблицу\n",
    "user_info = user_info.merge(contacts_call, on='id', how='left')\n",
    "user_info = user_info.merge(favorites_add, on='id', how='left')\n",
    "\n",
    "\n",
    "#Заполняю пропуски нулями\n",
    "user_info['calls'] = user_info['calls'].fillna(0)\n",
    "user_info['add_to_favorites'] = user_info['add_to_favorites'].fillna(0)"
   ]
  },
  {
   "cell_type": "code",
   "execution_count": 48,
   "metadata": {},
   "outputs": [],
   "source": [
    "# то же самое для кликов по рекомендованным объявлениям:\n",
    "\n",
    "recomended_click = event_data.query('event==\"tips_click\"').groupby('id', as_index=False).agg({'event':'count'})\n",
    "recomended_click.columns = ['id', 'clicks']\n",
    "user_info = user_info.merge(recomended_click, on='id', how='left')\n",
    "user_info['clicks'] = user_info['clicks'].fillna(0)"
   ]
  },
  {
   "cell_type": "code",
   "execution_count": 49,
   "metadata": {},
   "outputs": [
    {
     "data": {
      "text/html": [
       "<div>\n",
       "<style scoped>\n",
       "    .dataframe tbody tr th:only-of-type {\n",
       "        vertical-align: middle;\n",
       "    }\n",
       "\n",
       "    .dataframe tbody tr th {\n",
       "        vertical-align: top;\n",
       "    }\n",
       "\n",
       "    .dataframe thead th {\n",
       "        text-align: right;\n",
       "    }\n",
       "</style>\n",
       "<table border=\"1\" class=\"dataframe\">\n",
       "  <thead>\n",
       "    <tr style=\"text-align: right;\">\n",
       "      <th></th>\n",
       "      <th>id</th>\n",
       "      <th>count_of_sessions</th>\n",
       "      <th>source</th>\n",
       "      <th>event_count</th>\n",
       "      <th>lifetime</th>\n",
       "      <th>open_contact</th>\n",
       "      <th>calls</th>\n",
       "      <th>add_to_favorites</th>\n",
       "      <th>clicks</th>\n",
       "    </tr>\n",
       "  </thead>\n",
       "  <tbody>\n",
       "    <tr>\n",
       "      <td>0</td>\n",
       "      <td>020292ab-89bc-4156-9acf-68bc2783f894</td>\n",
       "      <td>1</td>\n",
       "      <td>other</td>\n",
       "      <td>28</td>\n",
       "      <td>18.700000</td>\n",
       "      <td>0.0</td>\n",
       "      <td>0.0</td>\n",
       "      <td>0.0</td>\n",
       "      <td>0.0</td>\n",
       "    </tr>\n",
       "    <tr>\n",
       "      <td>1</td>\n",
       "      <td>cf7eda61-9349-469f-ac27-e5b6f5ec475c</td>\n",
       "      <td>10</td>\n",
       "      <td>yandex</td>\n",
       "      <td>93</td>\n",
       "      <td>34539.350000</td>\n",
       "      <td>0.0</td>\n",
       "      <td>0.0</td>\n",
       "      <td>0.0</td>\n",
       "      <td>2.0</td>\n",
       "    </tr>\n",
       "    <tr>\n",
       "      <td>2</td>\n",
       "      <td>8c356c42-3ba9-4cb6-80b8-3f868d0192c3</td>\n",
       "      <td>5</td>\n",
       "      <td>yandex</td>\n",
       "      <td>96</td>\n",
       "      <td>33101.716667</td>\n",
       "      <td>2.0</td>\n",
       "      <td>0.0</td>\n",
       "      <td>0.0</td>\n",
       "      <td>3.0</td>\n",
       "    </tr>\n",
       "    <tr>\n",
       "      <td>3</td>\n",
       "      <td>d9b06b47-0f36-419b-bbb0-3533e582a6cb</td>\n",
       "      <td>3</td>\n",
       "      <td>other</td>\n",
       "      <td>8</td>\n",
       "      <td>27997.600000</td>\n",
       "      <td>0.0</td>\n",
       "      <td>0.0</td>\n",
       "      <td>0.0</td>\n",
       "      <td>0.0</td>\n",
       "    </tr>\n",
       "    <tr>\n",
       "      <td>4</td>\n",
       "      <td>f32e1e2a-3027-4693-b793-b7b3ff274439</td>\n",
       "      <td>1</td>\n",
       "      <td>google</td>\n",
       "      <td>33</td>\n",
       "      <td>40.800000</td>\n",
       "      <td>0.0</td>\n",
       "      <td>0.0</td>\n",
       "      <td>0.0</td>\n",
       "      <td>0.0</td>\n",
       "    </tr>\n",
       "  </tbody>\n",
       "</table>\n",
       "</div>"
      ],
      "text/plain": [
       "                                     id  count_of_sessions  source  \\\n",
       "0  020292ab-89bc-4156-9acf-68bc2783f894                  1   other   \n",
       "1  cf7eda61-9349-469f-ac27-e5b6f5ec475c                 10  yandex   \n",
       "2  8c356c42-3ba9-4cb6-80b8-3f868d0192c3                  5  yandex   \n",
       "3  d9b06b47-0f36-419b-bbb0-3533e582a6cb                  3   other   \n",
       "4  f32e1e2a-3027-4693-b793-b7b3ff274439                  1  google   \n",
       "\n",
       "   event_count      lifetime  open_contact  calls  add_to_favorites  clicks  \n",
       "0           28     18.700000           0.0    0.0               0.0     0.0  \n",
       "1           93  34539.350000           0.0    0.0               0.0     2.0  \n",
       "2           96  33101.716667           2.0    0.0               0.0     3.0  \n",
       "3            8  27997.600000           0.0    0.0               0.0     0.0  \n",
       "4           33     40.800000           0.0    0.0               0.0     0.0  "
      ]
     },
     "execution_count": 49,
     "metadata": {},
     "output_type": "execute_result"
    }
   ],
   "source": [
    "user_info.head()"
   ]
  },
  {
   "cell_type": "markdown",
   "metadata": {},
   "source": [
    "Получил датафрейм с числом сессий, их суммарной продолжительностью, источником, из которого пришёл пользователь, lifetime пользователя, числом раз совершения целевого действия (просмотра контактов), числом звонков из приложения, кликам по рекомендованным объявлениям и добавлениям карточки в избранное. "
   ]
  },
  {
   "cell_type": "markdown",
   "metadata": {},
   "source": [
    "### Считаю распределение признаков"
   ]
  },
  {
   "cell_type": "markdown",
   "metadata": {},
   "source": [
    "Проверю, как выглядит распределение этих признаков: "
   ]
  },
  {
   "cell_type": "code",
   "execution_count": 50,
   "metadata": {},
   "outputs": [],
   "source": [
    "#Почитанные ранее метрики привожу к необходимым для правильной работы методов типам:\n",
    "\n",
    "#user_info['duration_sum'] = user_info['duration_sum'].astype('int') \n",
    "user_info['open_contact'] = user_info['open_contact'].astype('int') \n",
    "user_info['lifetime'] = user_info['lifetime'].astype('int') \n",
    "user_info['calls'] = user_info['calls'].astype('int') \n",
    "user_info['add_to_favorites'] = user_info['add_to_favorites'].astype('int') \n",
    "user_info['clicks'] = user_info['clicks'].astype('int') \n",
    "user_info['event_count'] = user_info['event_count'].astype('int') "
   ]
  },
  {
   "cell_type": "code",
   "execution_count": 51,
   "metadata": {},
   "outputs": [
    {
     "name": "stdout",
     "output_type": "stream",
     "text": [
      "add_to_favorites\n",
      "[0. 1. 9.]\n",
      "open_contact\n",
      "[ 2.  5. 15.]\n",
      "clicks\n",
      "[0. 1. 4.]\n",
      "count_of_sessions\n",
      "[ 5.  8. 19.]\n",
      "lifetime\n",
      "[14110.2  21809.65 33086.44]\n",
      "calls\n",
      "[0. 0. 3.]\n",
      "event_count\n",
      "[ 36.    58.45 129.27]\n"
     ]
    }
   ],
   "source": [
    "#Считаю перцентели по признакам:\n",
    "\n",
    "for i in {'count_of_sessions', 'lifetime', 'open_contact', 'calls', 'add_to_favorites', 'clicks', 'event_count'}:\n",
    "    print(i)\n",
    "    print(np.percentile(user_info[i], [90, 95, 99])) # выведем перцентилиa"
   ]
  },
  {
   "cell_type": "markdown",
   "metadata": {},
   "source": [
    "Получаем, что 90% пользователей укладываются в 5 сессий, 2 просмотра контакта, час продолжительности сессии, 14 тысяч минут лайфтайма (235 часов, почти 10 дней), совсем не звонят и не добавляют объявления в избранное. \n",
    "\n",
    "В свою очередь, только 1%  пользуется приложением больше 4 часов, открывает контакты больше 15 раз, совершает 19 и более сессий, а также имеет лайфтайм более 22 дней, звонят 3 раза и 9 раз добавляют объявление в избранное. "
   ]
  },
  {
   "cell_type": "markdown",
   "metadata": {},
   "source": [
    "### Матрица коррелиции признаков"
   ]
  },
  {
   "cell_type": "code",
   "execution_count": 52,
   "metadata": {},
   "outputs": [
    {
     "data": {
      "text/plain": [
       "<matplotlib.axes._subplots.AxesSubplot at 0x7f7d90a665d0>"
      ]
     },
     "execution_count": 52,
     "metadata": {},
     "output_type": "execute_result"
    },
    {
     "data": {
      "image/png": "[encoded data removed]",
      "text/plain": [
       "<Figure size 720x720 with 2 Axes>"
      ]
     },
     "metadata": {},
     "output_type": "display_data"
    }
   ],
   "source": [
    "#строю матрицу корреляций\n",
    "corr_info = user_info.drop(columns=['source'])\n",
    "\n",
    "corr_m = corr_info.corr()\n",
    "fig, ax = plt.subplots(figsize=(10,10))\n",
    "plt.title('Матрица корреляций признаков')\n",
    "sns.heatmap(corr_m, square = True, annot = True)"
   ]
  },
  {
   "cell_type": "markdown",
   "metadata": {},
   "source": [
    "Получаем, что сильная прямая зависимость есть только между числом визитов и суммой их продолжительности"
   ]
  },
  {
   "cell_type": "code",
   "execution_count": 53,
   "metadata": {},
   "outputs": [
    {
     "data": {
      "image/png": "[encoded data removed]",
      "text/plain": [
       "<Figure size 720x432 with 1 Axes>"
      ]
     },
     "metadata": {},
     "output_type": "display_data"
    },
    {
     "data": {
      "image/png": "[encoded data removed]",
      "text/plain": [
       "<Figure size 720x432 with 1 Axes>"
      ]
     },
     "metadata": {},
     "output_type": "display_data"
    },
    {
     "data": {
      "image/png": "[encoded data removed]",
      "text/plain": [
       "<Figure size 720x432 with 1 Axes>"
      ]
     },
     "metadata": {},
     "output_type": "display_data"
    },
    {
     "data": {
      "image/png": "[encoded data removed]",
      "text/plain": [
       "<Figure size 720x432 with 1 Axes>"
      ]
     },
     "metadata": {},
     "output_type": "display_data"
    },
    {
     "data": {
      "image/png": "[encoded data removed]",
      "text/plain": [
       "<Figure size 720x432 with 1 Axes>"
      ]
     },
     "metadata": {},
     "output_type": "display_data"
    },
    {
     "data": {
      "image/png": "[encoded data removed]",
      "text/plain": [
       "<Figure size 720x432 with 1 Axes>"
      ]
     },
     "metadata": {},
     "output_type": "display_data"
    },
    {
     "data": {
      "image/png": "[encoded data removed]",
      "text/plain": [
       "<Figure size 720x432 with 1 Axes>"
      ]
     },
     "metadata": {},
     "output_type": "display_data"
    }
   ],
   "source": [
    "#Строю графики распределения по признакам: \n",
    "\n",
    "for i in {'count_of_sessions', 'lifetime', 'open_contact', 'calls', 'add_to_favorites', 'clicks', 'event_count'}:\n",
    "    plt.figure(figsize=(10,6))\n",
    "    plt.title(i)\n",
    "    plt.hist(user_info[i], bins=100, range=(0,100))\n",
    "    plt.grid(True);"
   ]
  },
  {
   "cell_type": "code",
   "execution_count": 54,
   "metadata": {},
   "outputs": [
    {
     "name": "stdout",
     "output_type": "stream",
     "text": [
      "Число пользователей, которые провели в приложении меньше 5 минут: 578\n"
     ]
    }
   ],
   "source": [
    "print('Число пользователей, которые провели в приложении меньше 5 минут:', len(user_info.query('lifetime < 5')))"
   ]
  },
  {
   "cell_type": "markdown",
   "metadata": {},
   "source": [
    "Глядя на графики можно предположить, что в данных по-прежнему остались выбросы. Однако нет оснований полагать, что это не тот самый 1% крайне лояльных пользователей. От бота-фродера я избавился, так что оставлю оставшиеся данные как есть.\n",
    "\n",
    "Более 1600 пользователей ограничиваются одной сессией. При этом 578 из них проводят в приложении меньше 5 минут. Этому могут быть причиной проблемы с оптимизацией для разных устройств. \n",
    "\n",
    "В большинстве случаев пользователи совершают до 5 сессий. \n",
    "\n",
    "Подавляющее большинство пользователей не доходят до целевого действия -- просмотра контактов. Это событие совершило около 400 пользователей. "
   ]
  },
  {
   "cell_type": "markdown",
   "metadata": {},
   "source": [
    "### Вывод по шагу 2"
   ]
  },
  {
   "cell_type": "markdown",
   "metadata": {},
   "source": [
    "Больше всего клиентов к нам пришло из Яндекса -- 1934, меньше всего из Google -- 1129. Из других источников 1230. \n",
    "\n",
    "События по дням распределены нормально, даже с поправкой на источники. Меньше всего событий стабильно совершается в выходные. \n",
    "\n",
    "4293 пользователя за месяц совершили 12432 сессий. \n",
    "\n",
    "Нашел одного бота-фродера, который только и делал, что отсматривал рекламу в приложении, воруя бюджеты пользователей. Выглян его его из данных. \n",
    "\n",
    "Средний lifetime составляет 3786 минут на пользователя. Это 2,5 дня -- по-видимому, пользователи редко возвращаются в приложение. \n",
    "\n",
    "Целевое действие -- переход в контакт, совершил 981 пользователь.\n",
    "\n",
    "Анализ распределения признаков перцентилями показал, что 90% пользователей укладываются в 5 сессий, 2 просмотра контакта, час продолжительности сессии, 14 тысяч минут лайфтайма (235 часов, почти 10 дней), совсем не звонят и не добавляют объявления в избранное.\n",
    "\n",
    "В свою очередь, только 1% пользуется приложением больше 4 часов, открывает контакты больше 15 раз, совершает 19 и более сессий, а также имеет лайфтайм более 6 часов, звонят 3 раза и 9 раз добавляют объявление в избранное.\n",
    "\n",
    "\n",
    "Матрица корреляции показала, что сильная прямая зависимость есть только между числом визитов и суммой их продолжительности. "
   ]
  },
  {
   "cell_type": "markdown",
   "metadata": {},
   "source": [
    "## Сегментировать пользователей на основе действий"
   ]
  },
  {
   "cell_type": "markdown",
   "metadata": {},
   "source": [
    "### Сегментация "
   ]
  },
  {
   "cell_type": "code",
   "execution_count": 55,
   "metadata": {},
   "outputs": [],
   "source": [
    "user_info.loc[user_info['source'] == \"yandex\", 'source'] = 1 #Яндекс\n",
    "user_info.loc[user_info['source'] == \"google\", 'source'] = 3 #другие\n",
    "user_info.loc[user_info['source'] == \"other\", 'source'] = 2 #Гугл"
   ]
  },
  {
   "cell_type": "code",
   "execution_count": 56,
   "metadata": {},
   "outputs": [],
   "source": [
    "#убираю столбец id, чтобы тот не учитывался в кластеризации\n",
    "\n",
    "X = user_info.drop(['id', 'source'], axis=1)"
   ]
  },
  {
   "cell_type": "code",
   "execution_count": 57,
   "metadata": {},
   "outputs": [
    {
     "data": {
      "image/png": "[encoded data removed]",
      "text/plain": [
       "<Figure size 1080x720 with 1 Axes>"
      ]
     },
     "metadata": {},
     "output_type": "display_data"
    }
   ],
   "source": [
    "#делаю кластеризацию методом классификации:\n",
    "\n",
    "sc = StandardScaler()\n",
    "X_sc = sc.fit_transform(X)\n",
    "linked = linkage(X_sc, method = 'ward')\n",
    "plt.figure(figsize=(15, 10))  \n",
    "dendrogram(linked, orientation='top')\n",
    "plt.title('Иерархическая кластеризация')\n",
    "plt.show()"
   ]
  },
  {
   "cell_type": "code",
   "execution_count": 58,
   "metadata": {},
   "outputs": [],
   "source": [
    "#задаю число кластеров и добавляю данные в таблицу:\n",
    "\n",
    "km = KMeans(n_clusters = 5)\n",
    "labels = km.fit_predict(X_sc)\n",
    "user_info['cluster_km'] = labels"
   ]
  },
  {
   "cell_type": "code",
   "execution_count": 59,
   "metadata": {},
   "outputs": [
    {
     "data": {
      "text/plain": [
       "1    3547\n",
       "3     593\n",
       "0      74\n",
       "2      66\n",
       "4      12\n",
       "Name: cluster_km, dtype: int64"
      ]
     },
     "execution_count": 59,
     "metadata": {},
     "output_type": "execute_result"
    }
   ],
   "source": [
    "#Считаю число пользователей в каждом кластере:\n",
    "user_info['cluster_km'].value_counts()"
   ]
  },
  {
   "cell_type": "markdown",
   "metadata": {},
   "source": [
    "Модель разделила на 5 заметных на графике кластера, два из которых еле различимы визуально.\n",
    "\n",
    "Я также прибегнул к разделению на 5 кластеров. Самый крупный включил в себя 3635 пользователей, самый маленький -- лишь 18. "
   ]
  },
  {
   "cell_type": "code",
   "execution_count": 60,
   "metadata": {},
   "outputs": [],
   "source": [
    "#считаю средние значения признаков для кластеров:\n",
    "cluster_info = user_info.groupby('cluster_km').mean()\n",
    "\n",
    "cluster_info = cluster_info.drop((['open_contact']), axis=1)\n",
    "cluster_info = cluster_info.drop((['event_count']), axis=1)"
   ]
  },
  {
   "cell_type": "code",
   "execution_count": 110,
   "metadata": {},
   "outputs": [
    {
     "data": {
      "text/html": [
       "<div>\n",
       "<style scoped>\n",
       "    .dataframe tbody tr th:only-of-type {\n",
       "        vertical-align: middle;\n",
       "    }\n",
       "\n",
       "    .dataframe tbody tr th {\n",
       "        vertical-align: top;\n",
       "    }\n",
       "\n",
       "    .dataframe thead th {\n",
       "        text-align: right;\n",
       "    }\n",
       "</style>\n",
       "<table border=\"1\" class=\"dataframe\">\n",
       "  <thead>\n",
       "    <tr style=\"text-align: right;\">\n",
       "      <th></th>\n",
       "      <th>cluster_km</th>\n",
       "      <th>count_of_sessions</th>\n",
       "      <th>source</th>\n",
       "      <th>lifetime</th>\n",
       "      <th>calls</th>\n",
       "      <th>add_to_favorites</th>\n",
       "      <th>clicks</th>\n",
       "      <th>count</th>\n",
       "      <th>proportion</th>\n",
       "      <th>open_contact</th>\n",
       "      <th>conversion_to_contact</th>\n",
       "      <th>event_count</th>\n",
       "      <th>event_frequency</th>\n",
       "      <th>duration_sum</th>\n",
       "    </tr>\n",
       "  </thead>\n",
       "  <tbody>\n",
       "    <tr>\n",
       "      <td>0</td>\n",
       "      <td>0</td>\n",
       "      <td>19.108108</td>\n",
       "      <td>1.716216</td>\n",
       "      <td>19384.648649</td>\n",
       "      <td>0.121622</td>\n",
       "      <td>7.310811</td>\n",
       "      <td>1.310811</td>\n",
       "      <td>74</td>\n",
       "      <td>1.724138</td>\n",
       "      <td>40</td>\n",
       "      <td>0.540541</td>\n",
       "      <td>9821</td>\n",
       "      <td>132.716216</td>\n",
       "      <td>16755.833333</td>\n",
       "    </tr>\n",
       "    <tr>\n",
       "      <td>1</td>\n",
       "      <td>1</td>\n",
       "      <td>1.898788</td>\n",
       "      <td>1.816747</td>\n",
       "      <td>1005.664505</td>\n",
       "      <td>0.041162</td>\n",
       "      <td>0.174796</td>\n",
       "      <td>0.095010</td>\n",
       "      <td>3547</td>\n",
       "      <td>82.642125</td>\n",
       "      <td>674</td>\n",
       "      <td>0.190020</td>\n",
       "      <td>41172</td>\n",
       "      <td>11.607556</td>\n",
       "      <td>66803.333333</td>\n",
       "    </tr>\n",
       "    <tr>\n",
       "      <td>2</td>\n",
       "      <td>2</td>\n",
       "      <td>5.257576</td>\n",
       "      <td>1.787879</td>\n",
       "      <td>6123.439394</td>\n",
       "      <td>5.106061</td>\n",
       "      <td>0.333333</td>\n",
       "      <td>0.000000</td>\n",
       "      <td>66</td>\n",
       "      <td>1.537745</td>\n",
       "      <td>66</td>\n",
       "      <td>1.000000</td>\n",
       "      <td>1755</td>\n",
       "      <td>26.590909</td>\n",
       "      <td>2734.833333</td>\n",
       "    </tr>\n",
       "    <tr>\n",
       "      <td>3</td>\n",
       "      <td>3</td>\n",
       "      <td>5.858347</td>\n",
       "      <td>1.801012</td>\n",
       "      <td>17836.374368</td>\n",
       "      <td>0.082631</td>\n",
       "      <td>0.382799</td>\n",
       "      <td>0.558179</td>\n",
       "      <td>593</td>\n",
       "      <td>13.816403</td>\n",
       "      <td>188</td>\n",
       "      <td>0.317032</td>\n",
       "      <td>18140</td>\n",
       "      <td>30.590219</td>\n",
       "      <td>30184.366667</td>\n",
       "    </tr>\n",
       "    <tr>\n",
       "      <td>4</td>\n",
       "      <td>4</td>\n",
       "      <td>29.083333</td>\n",
       "      <td>1.916667</td>\n",
       "      <td>22481.250000</td>\n",
       "      <td>0.000000</td>\n",
       "      <td>0.500000</td>\n",
       "      <td>4.000000</td>\n",
       "      <td>12</td>\n",
       "      <td>0.279590</td>\n",
       "      <td>12</td>\n",
       "      <td>1.000000</td>\n",
       "      <td>2909</td>\n",
       "      <td>242.416667</td>\n",
       "      <td>6224.133333</td>\n",
       "    </tr>\n",
       "  </tbody>\n",
       "</table>\n",
       "</div>"
      ],
      "text/plain": [
       "   cluster_km  count_of_sessions    source      lifetime     calls  \\\n",
       "0           0          19.108108  1.716216  19384.648649  0.121622   \n",
       "1           1           1.898788  1.816747   1005.664505  0.041162   \n",
       "2           2           5.257576  1.787879   6123.439394  5.106061   \n",
       "3           3           5.858347  1.801012  17836.374368  0.082631   \n",
       "4           4          29.083333  1.916667  22481.250000  0.000000   \n",
       "\n",
       "   add_to_favorites    clicks  count  proportion  open_contact  \\\n",
       "0          7.310811  1.310811     74    1.724138            40   \n",
       "1          0.174796  0.095010   3547   82.642125           674   \n",
       "2          0.333333  0.000000     66    1.537745            66   \n",
       "3          0.382799  0.558179    593   13.816403           188   \n",
       "4          0.500000  4.000000     12    0.279590            12   \n",
       "\n",
       "   conversion_to_contact  event_count  event_frequency  duration_sum  \n",
       "0               0.540541         9821       132.716216  16755.833333  \n",
       "1               0.190020        41172        11.607556  66803.333333  \n",
       "2               1.000000         1755        26.590909   2734.833333  \n",
       "3               0.317032        18140        30.590219  30184.366667  \n",
       "4               1.000000         2909       242.416667   6224.133333  "
      ]
     },
     "execution_count": 110,
     "metadata": {},
     "output_type": "execute_result"
    }
   ],
   "source": [
    "cluster_info"
   ]
  },
  {
   "cell_type": "markdown",
   "metadata": {},
   "source": [
    "### Описание сегментов"
   ]
  },
  {
   "cell_type": "markdown",
   "metadata": {},
   "source": [
    "**Нулевой кластер** -- в него попало 74 пользователя. Это \"старички\" с лайфтаймом в почти 2 недели. Лишь 12% из них позвонили контакту из приложения, но зато они чаще других добавляют карточки в избранное -- более 7 раз на пользователя. В среднем они совершили по 19 сессий, и каждый из них хоть раз нажал на предложенное объявление. По предварительной оценке, они -- **наш целевой сегмент**. \n",
    "\n",
    "**Первый кластер** -- Самая большая группа. Это новые пользователи, их лайфтайм не превышает одного дня. В среднем число сессий в этой группе не превышает 2, лишь 4% успели позвонить контакту, 17% добавили карточку в избранное и 9% нажали на рекомендацию. \n",
    "\n",
    "**Второй кластер** -- Явно знали, зачем пришли. Они совсем не нажимали на рекомендации, в среднем за 5 сессий и 4 дня лайфтайма успели сделать по 5 звонков и лишь треть из них добавили карточки в избранное.\n",
    "\n",
    "**Третий кластер** --  13% из выборки. За 12 дней лайфтайма сделали почти по 6 сессий. Только 8% звонили из приложения, зато почти 40% добавили карточку товара в избранное, а больше половины -- 56% нажали на рекомендованное объявление. \n",
    "\n",
    "**Четвертый кластер** -- Самая малочилсенная группа. 12 пользователей, которые совсем не звонили из приложения. 50% добавили что-то в избранное, зато каждый в среднем по 4 раза кликнул на рекомендацию. Подозрительное поведение и численность группы говорит о том, что это либо рекламные боты, либо наши сотрудники, тестирующие конкретный функционал. "
   ]
  },
  {
   "cell_type": "markdown",
   "metadata": {},
   "source": [
    "### Вывод по шагу 3 "
   ]
  },
  {
   "cell_type": "markdown",
   "metadata": {},
   "source": [
    "Провёл кластеризацию методом классификации. Выделил 5 сегментов пользователей. Привёл описание для каждого сегмента, выделив отличительные черты. "
   ]
  },
  {
   "cell_type": "markdown",
   "metadata": {},
   "source": [
    "## Статистический анализ данных"
   ]
  },
  {
   "cell_type": "markdown",
   "metadata": {},
   "source": [
    "### Анализ Retention rate"
   ]
  },
  {
   "cell_type": "markdown",
   "metadata": {},
   "source": [
    "Посчитаю и добавлю в таблицу Retention Rate: "
   ]
  },
  {
   "cell_type": "code",
   "execution_count": 61,
   "metadata": {},
   "outputs": [],
   "source": [
    "#Создам новый фрейм для удобства расчётов:\n",
    "user_data = user_info"
   ]
  },
  {
   "cell_type": "code",
   "execution_count": 62,
   "metadata": {},
   "outputs": [],
   "source": [
    "#Считаю дату первого использования приложения\n",
    "start_time = event_data.groupby(['id'], as_index=False).agg({'time':'min'})\n",
    "start_time = start_time.rename(columns={'time':'start_at'})\n",
    "\n",
    "#Считаю дату последнего использования приложения\n",
    "stop_time = event_data.groupby(['id'], as_index=False).agg({'time':'max'})\n",
    "stop_time = stop_time.rename(columns={'time':'stop_at'})\n",
    "\n",
    "#Привожу данные к нужным типам\n",
    "start_time['start_at'] = start_time['start_at'].astype('datetime64[W]')\n",
    "stop_time['stop_at'] = stop_time['stop_at'].astype('datetime64[W]')"
   ]
  },
  {
   "cell_type": "code",
   "execution_count": 63,
   "metadata": {},
   "outputs": [],
   "source": [
    "#Добавляю данные в табилцу\n",
    "user_data = user_data.merge(start_time, on='id')\n",
    "user_data = user_data.merge(stop_time, on='id')"
   ]
  },
  {
   "cell_type": "code",
   "execution_count": 64,
   "metadata": {},
   "outputs": [
    {
     "data": {
      "text/html": [
       "<div>\n",
       "<style scoped>\n",
       "    .dataframe tbody tr th:only-of-type {\n",
       "        vertical-align: middle;\n",
       "    }\n",
       "\n",
       "    .dataframe tbody tr th {\n",
       "        vertical-align: top;\n",
       "    }\n",
       "\n",
       "    .dataframe thead th {\n",
       "        text-align: right;\n",
       "    }\n",
       "</style>\n",
       "<table border=\"1\" class=\"dataframe\">\n",
       "  <thead>\n",
       "    <tr style=\"text-align: right;\">\n",
       "      <th></th>\n",
       "      <th>id</th>\n",
       "      <th>count_of_sessions</th>\n",
       "      <th>source</th>\n",
       "      <th>event_count</th>\n",
       "      <th>lifetime</th>\n",
       "      <th>open_contact</th>\n",
       "      <th>calls</th>\n",
       "      <th>add_to_favorites</th>\n",
       "      <th>clicks</th>\n",
       "      <th>cluster_km</th>\n",
       "      <th>start_at</th>\n",
       "      <th>stop_at</th>\n",
       "    </tr>\n",
       "  </thead>\n",
       "  <tbody>\n",
       "    <tr>\n",
       "      <td>0</td>\n",
       "      <td>020292ab-89bc-4156-9acf-68bc2783f894</td>\n",
       "      <td>1</td>\n",
       "      <td>2</td>\n",
       "      <td>28</td>\n",
       "      <td>18</td>\n",
       "      <td>0</td>\n",
       "      <td>0</td>\n",
       "      <td>0</td>\n",
       "      <td>0</td>\n",
       "      <td>1</td>\n",
       "      <td>2019-10-03</td>\n",
       "      <td>2019-10-03</td>\n",
       "    </tr>\n",
       "    <tr>\n",
       "      <td>1</td>\n",
       "      <td>cf7eda61-9349-469f-ac27-e5b6f5ec475c</td>\n",
       "      <td>10</td>\n",
       "      <td>1</td>\n",
       "      <td>93</td>\n",
       "      <td>34539</td>\n",
       "      <td>0</td>\n",
       "      <td>0</td>\n",
       "      <td>0</td>\n",
       "      <td>2</td>\n",
       "      <td>3</td>\n",
       "      <td>2019-10-03</td>\n",
       "      <td>2019-10-24</td>\n",
       "    </tr>\n",
       "    <tr>\n",
       "      <td>2</td>\n",
       "      <td>8c356c42-3ba9-4cb6-80b8-3f868d0192c3</td>\n",
       "      <td>5</td>\n",
       "      <td>1</td>\n",
       "      <td>96</td>\n",
       "      <td>33101</td>\n",
       "      <td>2</td>\n",
       "      <td>0</td>\n",
       "      <td>0</td>\n",
       "      <td>3</td>\n",
       "      <td>3</td>\n",
       "      <td>2019-10-03</td>\n",
       "      <td>2019-10-24</td>\n",
       "    </tr>\n",
       "    <tr>\n",
       "      <td>3</td>\n",
       "      <td>d9b06b47-0f36-419b-bbb0-3533e582a6cb</td>\n",
       "      <td>3</td>\n",
       "      <td>2</td>\n",
       "      <td>8</td>\n",
       "      <td>27997</td>\n",
       "      <td>0</td>\n",
       "      <td>0</td>\n",
       "      <td>0</td>\n",
       "      <td>0</td>\n",
       "      <td>3</td>\n",
       "      <td>2019-10-03</td>\n",
       "      <td>2019-10-24</td>\n",
       "    </tr>\n",
       "    <tr>\n",
       "      <td>4</td>\n",
       "      <td>f32e1e2a-3027-4693-b793-b7b3ff274439</td>\n",
       "      <td>1</td>\n",
       "      <td>3</td>\n",
       "      <td>33</td>\n",
       "      <td>40</td>\n",
       "      <td>0</td>\n",
       "      <td>0</td>\n",
       "      <td>0</td>\n",
       "      <td>0</td>\n",
       "      <td>1</td>\n",
       "      <td>2019-10-03</td>\n",
       "      <td>2019-10-03</td>\n",
       "    </tr>\n",
       "  </tbody>\n",
       "</table>\n",
       "</div>"
      ],
      "text/plain": [
       "                                     id  count_of_sessions  source  \\\n",
       "0  020292ab-89bc-4156-9acf-68bc2783f894                  1       2   \n",
       "1  cf7eda61-9349-469f-ac27-e5b6f5ec475c                 10       1   \n",
       "2  8c356c42-3ba9-4cb6-80b8-3f868d0192c3                  5       1   \n",
       "3  d9b06b47-0f36-419b-bbb0-3533e582a6cb                  3       2   \n",
       "4  f32e1e2a-3027-4693-b793-b7b3ff274439                  1       3   \n",
       "\n",
       "   event_count  lifetime  open_contact  calls  add_to_favorites  clicks  \\\n",
       "0           28        18             0      0                 0       0   \n",
       "1           93     34539             0      0                 0       2   \n",
       "2           96     33101             2      0                 0       3   \n",
       "3            8     27997             0      0                 0       0   \n",
       "4           33        40             0      0                 0       0   \n",
       "\n",
       "   cluster_km   start_at    stop_at  \n",
       "0           1 2019-10-03 2019-10-03  \n",
       "1           3 2019-10-03 2019-10-24  \n",
       "2           3 2019-10-03 2019-10-24  \n",
       "3           3 2019-10-03 2019-10-24  \n",
       "4           1 2019-10-03 2019-10-03  "
      ]
     },
     "execution_count": 64,
     "metadata": {},
     "output_type": "execute_result"
    }
   ],
   "source": [
    "user_data.head(5)"
   ]
  },
  {
   "cell_type": "markdown",
   "metadata": {},
   "source": [
    "Посмотрю, как различаются Retention Rate по кластерам: "
   ]
  },
  {
   "cell_type": "code",
   "execution_count": 65,
   "metadata": {},
   "outputs": [],
   "source": [
    "#для постороения когорт ищу начальную дату для каждого пользователя:\n",
    "first_activity_date = event_data.groupby(['id'])['date'].min() \n",
    "first_activity_date.name = 'first_activity_date' \n",
    "event_data = event_data.join(first_activity_date, on='id')\n",
    "event_data['first_activity_date'] = pd.to_datetime(event_data['first_activity_date'])"
   ]
  },
  {
   "cell_type": "code",
   "execution_count": 66,
   "metadata": {},
   "outputs": [],
   "source": [
    "event_data['activity_week'] = event_data['date'].astype('datetime64[W]')\n",
    "\n",
    "event_data['first_activity_week'] = event_data['first_activity_date'].astype('datetime64[W]')\n",
    "\n",
    "event_data['lifetime'] = event_data['activity_week'] - event_data['first_activity_week']\n",
    "event_data['lifetime'] = event_data['lifetime'] / np.timedelta64(1, 'W')\n",
    "event_data['lifetime'] = event_data['lifetime'].round().astype('int')\n",
    "\n",
    "cohorts = event_data.groupby(['first_activity_week','lifetime']).agg({'id':'nunique'}).reset_index()\n",
    "\n",
    "initial_users_count = cohorts[cohorts['lifetime'] == 0][['first_activity_week','id']]\n",
    "initial_users_count = initial_users_count.rename(columns={'id':'cohort_users'}) \n",
    "\n",
    "cohorts = cohorts.merge(initial_users_count, on='first_activity_week')\n",
    "\n",
    "cohorts['retention'] = cohorts['id'] / cohorts['cohort_users']\n",
    "retention_pivot = cohorts.pivot_table(index='first_activity_week',columns='lifetime',values='retention',aggfunc='sum')\n",
    "retention_pivot.index = retention_pivot.index.strftime('%d.%m')"
   ]
  },
  {
   "cell_type": "code",
   "execution_count": 67,
   "metadata": {},
   "outputs": [
    {
     "data": {
      "text/html": [
       "<div>\n",
       "<style scoped>\n",
       "    .dataframe tbody tr th:only-of-type {\n",
       "        vertical-align: middle;\n",
       "    }\n",
       "\n",
       "    .dataframe tbody tr th {\n",
       "        vertical-align: top;\n",
       "    }\n",
       "\n",
       "    .dataframe thead th {\n",
       "        text-align: right;\n",
       "    }\n",
       "</style>\n",
       "<table border=\"1\" class=\"dataframe\">\n",
       "  <thead>\n",
       "    <tr style=\"text-align: right;\">\n",
       "      <th>lifetime</th>\n",
       "      <th>0</th>\n",
       "      <th>1</th>\n",
       "      <th>2</th>\n",
       "      <th>3</th>\n",
       "      <th>4</th>\n",
       "    </tr>\n",
       "  </thead>\n",
       "  <tbody>\n",
       "    <tr>\n",
       "      <td>03.10</td>\n",
       "      <td>1.0</td>\n",
       "      <td>0.270567</td>\n",
       "      <td>0.168190</td>\n",
       "      <td>0.109689</td>\n",
       "      <td>0.071298</td>\n",
       "    </tr>\n",
       "    <tr>\n",
       "      <td>10.10</td>\n",
       "      <td>1.0</td>\n",
       "      <td>0.233929</td>\n",
       "      <td>0.154464</td>\n",
       "      <td>0.070536</td>\n",
       "      <td>NaN</td>\n",
       "    </tr>\n",
       "    <tr>\n",
       "      <td>17.10</td>\n",
       "      <td>1.0</td>\n",
       "      <td>0.240317</td>\n",
       "      <td>0.088908</td>\n",
       "      <td>NaN</td>\n",
       "      <td>NaN</td>\n",
       "    </tr>\n",
       "    <tr>\n",
       "      <td>24.10</td>\n",
       "      <td>1.0</td>\n",
       "      <td>0.173570</td>\n",
       "      <td>NaN</td>\n",
       "      <td>NaN</td>\n",
       "      <td>NaN</td>\n",
       "    </tr>\n",
       "    <tr>\n",
       "      <td>31.10</td>\n",
       "      <td>1.0</td>\n",
       "      <td>NaN</td>\n",
       "      <td>NaN</td>\n",
       "      <td>NaN</td>\n",
       "      <td>NaN</td>\n",
       "    </tr>\n",
       "  </tbody>\n",
       "</table>\n",
       "</div>"
      ],
      "text/plain": [
       "lifetime    0         1         2         3         4\n",
       "03.10     1.0  0.270567  0.168190  0.109689  0.071298\n",
       "10.10     1.0  0.233929  0.154464  0.070536       NaN\n",
       "17.10     1.0  0.240317  0.088908       NaN       NaN\n",
       "24.10     1.0  0.173570       NaN       NaN       NaN\n",
       "31.10     1.0       NaN       NaN       NaN       NaN"
      ]
     },
     "execution_count": 67,
     "metadata": {},
     "output_type": "execute_result"
    }
   ],
   "source": [
    "#смотрю на сводную таблицу RR\n",
    "retention_pivot"
   ]
  },
  {
   "cell_type": "code",
   "execution_count": 68,
   "metadata": {},
   "outputs": [
    {
     "data": {
      "image/png": "[encoded data removed]",
      "text/plain": [
       "<Figure size 1008x1008 with 2 Axes>"
      ]
     },
     "metadata": {},
     "output_type": "display_data"
    }
   ],
   "source": [
    "#Строю тепловую карту RR\n",
    "retention_pivot_heatmap = retention_pivot \n",
    "del retention_pivot_heatmap[0] \n",
    "plt.figure(figsize=(14, 14))\n",
    "sns.heatmap(retention_pivot_heatmap, annot=True, fmt='.1%', linewidths=1)\n",
    "plt.title('Retention rate')\n",
    "plt.ylabel('Когорта')\n",
    "plt.xlabel('Lifetime')\n",
    "plt.show()"
   ]
  },
  {
   "cell_type": "code",
   "execution_count": 69,
   "metadata": {},
   "outputs": [],
   "source": [
    "#Создаю датафрейм для дальнейшего расчёт RR по кластерам\n",
    "clusters_and_id = pd.DataFrame()\n",
    "\n",
    "clusters_and_id['cluster_km'] = user_info['cluster_km']\n",
    "clusters_and_id['id'] = user_info['id']\n",
    "\n",
    "#event_data = event_data.join(user_data['cluster_km'], on='id')"
   ]
  },
  {
   "cell_type": "code",
   "execution_count": 71,
   "metadata": {},
   "outputs": [],
   "source": [
    "#убираю из анализа нашего фродера, чтобы число строк в таблицаз было равно \n",
    "df = event_data.query('id != \"21230dd9-2f7f-4b77-a436-43d4d10388e0\"')"
   ]
  },
  {
   "cell_type": "code",
   "execution_count": 72,
   "metadata": {},
   "outputs": [
    {
     "data": {
      "text/plain": [
       "73797"
      ]
     },
     "execution_count": 72,
     "metadata": {},
     "output_type": "execute_result"
    }
   ],
   "source": [
    "#фиксирую длинну датафрейма, чтобы потом проверить, не потерял ли данные\n",
    "len(df)"
   ]
  },
  {
   "cell_type": "code",
   "execution_count": 73,
   "metadata": {},
   "outputs": [],
   "source": [
    "df = df.merge(clusters_and_id, on='id', how='left')"
   ]
  },
  {
   "cell_type": "code",
   "execution_count": 74,
   "metadata": {},
   "outputs": [
    {
     "data": {
      "text/plain": [
       "73797"
      ]
     },
     "execution_count": 74,
     "metadata": {},
     "output_type": "execute_result"
    }
   ],
   "source": [
    "#сверяю длинну после объединения таблиц\n",
    "df['cluster_km'].value_counts()\n",
    "len(df['cluster_km'])"
   ]
  },
  {
   "cell_type": "code",
   "execution_count": 75,
   "metadata": {},
   "outputs": [],
   "source": [
    "df['cluster_km'] = df['cluster_km'].astype('int')"
   ]
  },
  {
   "cell_type": "code",
   "execution_count": 76,
   "metadata": {},
   "outputs": [
    {
     "name": "stdout",
     "output_type": "stream",
     "text": [
      "Таблица RR для кластера: 0\n"
     ]
    },
    {
     "data": {
      "text/html": [
       "<div>\n",
       "<style scoped>\n",
       "    .dataframe tbody tr th:only-of-type {\n",
       "        vertical-align: middle;\n",
       "    }\n",
       "\n",
       "    .dataframe tbody tr th {\n",
       "        vertical-align: top;\n",
       "    }\n",
       "\n",
       "    .dataframe thead th {\n",
       "        text-align: right;\n",
       "    }\n",
       "</style>\n",
       "<table border=\"1\" class=\"dataframe\">\n",
       "  <thead>\n",
       "    <tr style=\"text-align: right;\">\n",
       "      <th>lifetime</th>\n",
       "      <th>0</th>\n",
       "      <th>1</th>\n",
       "      <th>2</th>\n",
       "      <th>3</th>\n",
       "      <th>4</th>\n",
       "    </tr>\n",
       "  </thead>\n",
       "  <tbody>\n",
       "    <tr>\n",
       "      <td>03.10</td>\n",
       "      <td>1.0</td>\n",
       "      <td>0.875</td>\n",
       "      <td>0.812500</td>\n",
       "      <td>0.6875</td>\n",
       "      <td>0.4375</td>\n",
       "    </tr>\n",
       "    <tr>\n",
       "      <td>10.10</td>\n",
       "      <td>1.0</td>\n",
       "      <td>0.840</td>\n",
       "      <td>0.840000</td>\n",
       "      <td>0.6000</td>\n",
       "      <td>NaN</td>\n",
       "    </tr>\n",
       "    <tr>\n",
       "      <td>17.10</td>\n",
       "      <td>1.0</td>\n",
       "      <td>1.000</td>\n",
       "      <td>0.722222</td>\n",
       "      <td>NaN</td>\n",
       "      <td>NaN</td>\n",
       "    </tr>\n",
       "    <tr>\n",
       "      <td>24.10</td>\n",
       "      <td>1.0</td>\n",
       "      <td>0.750</td>\n",
       "      <td>NaN</td>\n",
       "      <td>NaN</td>\n",
       "      <td>NaN</td>\n",
       "    </tr>\n",
       "    <tr>\n",
       "      <td>31.10</td>\n",
       "      <td>1.0</td>\n",
       "      <td>NaN</td>\n",
       "      <td>NaN</td>\n",
       "      <td>NaN</td>\n",
       "      <td>NaN</td>\n",
       "    </tr>\n",
       "  </tbody>\n",
       "</table>\n",
       "</div>"
      ],
      "text/plain": [
       "lifetime    0      1         2       3       4\n",
       "03.10     1.0  0.875  0.812500  0.6875  0.4375\n",
       "10.10     1.0  0.840  0.840000  0.6000     NaN\n",
       "17.10     1.0  1.000  0.722222     NaN     NaN\n",
       "24.10     1.0  0.750       NaN     NaN     NaN\n",
       "31.10     1.0    NaN       NaN     NaN     NaN"
      ]
     },
     "metadata": {},
     "output_type": "display_data"
    },
    {
     "name": "stdout",
     "output_type": "stream",
     "text": [
      "Таблица RR для кластера: 1\n"
     ]
    },
    {
     "data": {
      "text/html": [
       "<div>\n",
       "<style scoped>\n",
       "    .dataframe tbody tr th:only-of-type {\n",
       "        vertical-align: middle;\n",
       "    }\n",
       "\n",
       "    .dataframe tbody tr th {\n",
       "        vertical-align: top;\n",
       "    }\n",
       "\n",
       "    .dataframe thead th {\n",
       "        text-align: right;\n",
       "    }\n",
       "</style>\n",
       "<table border=\"1\" class=\"dataframe\">\n",
       "  <thead>\n",
       "    <tr style=\"text-align: right;\">\n",
       "      <th>lifetime</th>\n",
       "      <th>0</th>\n",
       "      <th>1</th>\n",
       "      <th>2</th>\n",
       "    </tr>\n",
       "  </thead>\n",
       "  <tbody>\n",
       "    <tr>\n",
       "      <td>03.10</td>\n",
       "      <td>1.0</td>\n",
       "      <td>0.169620</td>\n",
       "      <td>NaN</td>\n",
       "    </tr>\n",
       "    <tr>\n",
       "      <td>10.10</td>\n",
       "      <td>1.0</td>\n",
       "      <td>0.110312</td>\n",
       "      <td>0.002398</td>\n",
       "    </tr>\n",
       "    <tr>\n",
       "      <td>17.10</td>\n",
       "      <td>1.0</td>\n",
       "      <td>0.120430</td>\n",
       "      <td>NaN</td>\n",
       "    </tr>\n",
       "    <tr>\n",
       "      <td>24.10</td>\n",
       "      <td>1.0</td>\n",
       "      <td>0.114255</td>\n",
       "      <td>NaN</td>\n",
       "    </tr>\n",
       "    <tr>\n",
       "      <td>31.10</td>\n",
       "      <td>1.0</td>\n",
       "      <td>NaN</td>\n",
       "      <td>NaN</td>\n",
       "    </tr>\n",
       "  </tbody>\n",
       "</table>\n",
       "</div>"
      ],
      "text/plain": [
       "lifetime    0         1         2\n",
       "03.10     1.0  0.169620       NaN\n",
       "10.10     1.0  0.110312  0.002398\n",
       "17.10     1.0  0.120430       NaN\n",
       "24.10     1.0  0.114255       NaN\n",
       "31.10     1.0       NaN       NaN"
      ]
     },
     "metadata": {},
     "output_type": "display_data"
    },
    {
     "name": "stdout",
     "output_type": "stream",
     "text": [
      "Таблица RR для кластера: 2\n"
     ]
    },
    {
     "data": {
      "text/html": [
       "<div>\n",
       "<style scoped>\n",
       "    .dataframe tbody tr th:only-of-type {\n",
       "        vertical-align: middle;\n",
       "    }\n",
       "\n",
       "    .dataframe tbody tr th {\n",
       "        vertical-align: top;\n",
       "    }\n",
       "\n",
       "    .dataframe thead th {\n",
       "        text-align: right;\n",
       "    }\n",
       "</style>\n",
       "<table border=\"1\" class=\"dataframe\">\n",
       "  <thead>\n",
       "    <tr style=\"text-align: right;\">\n",
       "      <th>lifetime</th>\n",
       "      <th>0</th>\n",
       "      <th>1</th>\n",
       "      <th>2</th>\n",
       "      <th>3</th>\n",
       "    </tr>\n",
       "  </thead>\n",
       "  <tbody>\n",
       "    <tr>\n",
       "      <td>03.10</td>\n",
       "      <td>1.0</td>\n",
       "      <td>0.166667</td>\n",
       "      <td>0.333333</td>\n",
       "      <td>0.166667</td>\n",
       "    </tr>\n",
       "    <tr>\n",
       "      <td>10.10</td>\n",
       "      <td>1.0</td>\n",
       "      <td>0.437500</td>\n",
       "      <td>0.250000</td>\n",
       "      <td>NaN</td>\n",
       "    </tr>\n",
       "    <tr>\n",
       "      <td>17.10</td>\n",
       "      <td>1.0</td>\n",
       "      <td>0.565217</td>\n",
       "      <td>0.217391</td>\n",
       "      <td>NaN</td>\n",
       "    </tr>\n",
       "    <tr>\n",
       "      <td>24.10</td>\n",
       "      <td>1.0</td>\n",
       "      <td>0.444444</td>\n",
       "      <td>NaN</td>\n",
       "      <td>NaN</td>\n",
       "    </tr>\n",
       "    <tr>\n",
       "      <td>31.10</td>\n",
       "      <td>1.0</td>\n",
       "      <td>NaN</td>\n",
       "      <td>NaN</td>\n",
       "      <td>NaN</td>\n",
       "    </tr>\n",
       "  </tbody>\n",
       "</table>\n",
       "</div>"
      ],
      "text/plain": [
       "lifetime    0         1         2         3\n",
       "03.10     1.0  0.166667  0.333333  0.166667\n",
       "10.10     1.0  0.437500  0.250000       NaN\n",
       "17.10     1.0  0.565217  0.217391       NaN\n",
       "24.10     1.0  0.444444       NaN       NaN\n",
       "31.10     1.0       NaN       NaN       NaN"
      ]
     },
     "metadata": {},
     "output_type": "display_data"
    },
    {
     "name": "stdout",
     "output_type": "stream",
     "text": [
      "Таблица RR для кластера: 3\n"
     ]
    },
    {
     "data": {
      "text/html": [
       "<div>\n",
       "<style scoped>\n",
       "    .dataframe tbody tr th:only-of-type {\n",
       "        vertical-align: middle;\n",
       "    }\n",
       "\n",
       "    .dataframe tbody tr th {\n",
       "        vertical-align: top;\n",
       "    }\n",
       "\n",
       "    .dataframe thead th {\n",
       "        text-align: right;\n",
       "    }\n",
       "</style>\n",
       "<table border=\"1\" class=\"dataframe\">\n",
       "  <thead>\n",
       "    <tr style=\"text-align: right;\">\n",
       "      <th>lifetime</th>\n",
       "      <th>0</th>\n",
       "      <th>1</th>\n",
       "      <th>2</th>\n",
       "      <th>3</th>\n",
       "      <th>4</th>\n",
       "    </tr>\n",
       "  </thead>\n",
       "  <tbody>\n",
       "    <tr>\n",
       "      <td>03.10</td>\n",
       "      <td>1.0</td>\n",
       "      <td>0.500000</td>\n",
       "      <td>0.579365</td>\n",
       "      <td>0.357143</td>\n",
       "      <td>0.222222</td>\n",
       "    </tr>\n",
       "    <tr>\n",
       "      <td>10.10</td>\n",
       "      <td>1.0</td>\n",
       "      <td>0.573840</td>\n",
       "      <td>0.594937</td>\n",
       "      <td>0.248945</td>\n",
       "      <td>NaN</td>\n",
       "    </tr>\n",
       "    <tr>\n",
       "      <td>17.10</td>\n",
       "      <td>1.0</td>\n",
       "      <td>0.792683</td>\n",
       "      <td>0.506098</td>\n",
       "      <td>NaN</td>\n",
       "      <td>NaN</td>\n",
       "    </tr>\n",
       "    <tr>\n",
       "      <td>24.10</td>\n",
       "      <td>1.0</td>\n",
       "      <td>0.830769</td>\n",
       "      <td>NaN</td>\n",
       "      <td>NaN</td>\n",
       "      <td>NaN</td>\n",
       "    </tr>\n",
       "    <tr>\n",
       "      <td>31.10</td>\n",
       "      <td>1.0</td>\n",
       "      <td>NaN</td>\n",
       "      <td>NaN</td>\n",
       "      <td>NaN</td>\n",
       "      <td>NaN</td>\n",
       "    </tr>\n",
       "  </tbody>\n",
       "</table>\n",
       "</div>"
      ],
      "text/plain": [
       "lifetime    0         1         2         3         4\n",
       "03.10     1.0  0.500000  0.579365  0.357143  0.222222\n",
       "10.10     1.0  0.573840  0.594937  0.248945       NaN\n",
       "17.10     1.0  0.792683  0.506098       NaN       NaN\n",
       "24.10     1.0  0.830769       NaN       NaN       NaN\n",
       "31.10     1.0       NaN       NaN       NaN       NaN"
      ]
     },
     "metadata": {},
     "output_type": "display_data"
    },
    {
     "name": "stdout",
     "output_type": "stream",
     "text": [
      "Таблица RR для кластера: 4\n"
     ]
    },
    {
     "data": {
      "text/html": [
       "<div>\n",
       "<style scoped>\n",
       "    .dataframe tbody tr th:only-of-type {\n",
       "        vertical-align: middle;\n",
       "    }\n",
       "\n",
       "    .dataframe tbody tr th {\n",
       "        vertical-align: top;\n",
       "    }\n",
       "\n",
       "    .dataframe thead th {\n",
       "        text-align: right;\n",
       "    }\n",
       "</style>\n",
       "<table border=\"1\" class=\"dataframe\">\n",
       "  <thead>\n",
       "    <tr style=\"text-align: right;\">\n",
       "      <th>lifetime</th>\n",
       "      <th>0</th>\n",
       "      <th>1</th>\n",
       "      <th>2</th>\n",
       "      <th>3</th>\n",
       "      <th>4</th>\n",
       "    </tr>\n",
       "  </thead>\n",
       "  <tbody>\n",
       "    <tr>\n",
       "      <td>03.10</td>\n",
       "      <td>1.0</td>\n",
       "      <td>0.750000</td>\n",
       "      <td>1.000000</td>\n",
       "      <td>0.750000</td>\n",
       "      <td>1.0</td>\n",
       "    </tr>\n",
       "    <tr>\n",
       "      <td>10.10</td>\n",
       "      <td>1.0</td>\n",
       "      <td>0.714286</td>\n",
       "      <td>0.571429</td>\n",
       "      <td>0.571429</td>\n",
       "      <td>NaN</td>\n",
       "    </tr>\n",
       "    <tr>\n",
       "      <td>17.10</td>\n",
       "      <td>1.0</td>\n",
       "      <td>NaN</td>\n",
       "      <td>NaN</td>\n",
       "      <td>NaN</td>\n",
       "      <td>NaN</td>\n",
       "    </tr>\n",
       "  </tbody>\n",
       "</table>\n",
       "</div>"
      ],
      "text/plain": [
       "lifetime    0         1         2         3    4\n",
       "03.10     1.0  0.750000  1.000000  0.750000  1.0\n",
       "10.10     1.0  0.714286  0.571429  0.571429  NaN\n",
       "17.10     1.0       NaN       NaN       NaN  NaN"
      ]
     },
     "metadata": {},
     "output_type": "display_data"
    }
   ],
   "source": [
    "#пишу цикл для построения таблиц RR\n",
    "for i in range(0,5):\n",
    "    retention_data = df.query('cluster_km == @i')\n",
    "    retention_data['activity_week'] = retention_data['date'].astype('datetime64[W]')\n",
    "\n",
    "    retention_data['first_activity_week'] = retention_data['first_activity_date'].astype('datetime64[W]')\n",
    "\n",
    "    retention_data['lifetime'] = retention_data['activity_week'] - retention_data['first_activity_week']\n",
    "    retention_data['lifetime'] = retention_data['lifetime'] / np.timedelta64(1, 'W')\n",
    "    retention_data['lifetime'] = retention_data['lifetime'].round().astype('int')\n",
    "\n",
    "    cohorts = retention_data.groupby(['first_activity_week','lifetime']).agg({'id':'nunique'}).reset_index()\n",
    "\n",
    "    initial_users_count = cohorts[cohorts['lifetime'] == 0][['first_activity_week','id']]\n",
    "    initial_users_count = initial_users_count.rename(columns={'id':'cohort_users'}) \n",
    "\n",
    "    cohorts = cohorts.merge(initial_users_count, on='first_activity_week')\n",
    "    \n",
    "    cohorts['retention'] = cohorts['id'] / cohorts['cohort_users']\n",
    "    retention_pivot = cohorts.pivot_table(index='first_activity_week',columns='lifetime',values='retention',aggfunc='sum')\n",
    "    retention_pivot.index = retention_pivot.index.strftime('%d.%m')\n",
    "    print('Таблица RR для кластера:', i)\n",
    "    display(retention_pivot)"
   ]
  },
  {
   "cell_type": "markdown",
   "metadata": {},
   "source": [
    "Посчитаю и добавлю в таблицу число пользователей по кластерам:"
   ]
  },
  {
   "cell_type": "code",
   "execution_count": 77,
   "metadata": {},
   "outputs": [],
   "source": [
    "cluster_count = user_data.groupby('cluster_km', as_index=False).count()[['cluster_km', 'id']].rename(columns={'id': 'count'})"
   ]
  },
  {
   "cell_type": "code",
   "execution_count": 78,
   "metadata": {},
   "outputs": [],
   "source": [
    "#добавляю данные в таблицу\n",
    "cluster_info = cluster_info.merge(cluster_count, on='cluster_km')"
   ]
  },
  {
   "cell_type": "code",
   "execution_count": 79,
   "metadata": {},
   "outputs": [],
   "source": [
    "cluster_info['proportion'] = cluster_info['count'] * 100 / 4292"
   ]
  },
  {
   "cell_type": "code",
   "execution_count": 80,
   "metadata": {},
   "outputs": [
    {
     "data": {
      "text/html": [
       "<div>\n",
       "<style scoped>\n",
       "    .dataframe tbody tr th:only-of-type {\n",
       "        vertical-align: middle;\n",
       "    }\n",
       "\n",
       "    .dataframe tbody tr th {\n",
       "        vertical-align: top;\n",
       "    }\n",
       "\n",
       "    .dataframe thead th {\n",
       "        text-align: right;\n",
       "    }\n",
       "</style>\n",
       "<table border=\"1\" class=\"dataframe\">\n",
       "  <thead>\n",
       "    <tr style=\"text-align: right;\">\n",
       "      <th></th>\n",
       "      <th>cluster_km</th>\n",
       "      <th>count_of_sessions</th>\n",
       "      <th>source</th>\n",
       "      <th>lifetime</th>\n",
       "      <th>calls</th>\n",
       "      <th>add_to_favorites</th>\n",
       "      <th>clicks</th>\n",
       "      <th>count</th>\n",
       "      <th>proportion</th>\n",
       "    </tr>\n",
       "  </thead>\n",
       "  <tbody>\n",
       "    <tr>\n",
       "      <td>0</td>\n",
       "      <td>0</td>\n",
       "      <td>19.108108</td>\n",
       "      <td>1.716216</td>\n",
       "      <td>19384.648649</td>\n",
       "      <td>0.121622</td>\n",
       "      <td>7.310811</td>\n",
       "      <td>1.310811</td>\n",
       "      <td>74</td>\n",
       "      <td>1.724138</td>\n",
       "    </tr>\n",
       "    <tr>\n",
       "      <td>1</td>\n",
       "      <td>1</td>\n",
       "      <td>1.898788</td>\n",
       "      <td>1.816747</td>\n",
       "      <td>1005.664505</td>\n",
       "      <td>0.041162</td>\n",
       "      <td>0.174796</td>\n",
       "      <td>0.095010</td>\n",
       "      <td>3547</td>\n",
       "      <td>82.642125</td>\n",
       "    </tr>\n",
       "    <tr>\n",
       "      <td>2</td>\n",
       "      <td>2</td>\n",
       "      <td>5.257576</td>\n",
       "      <td>1.787879</td>\n",
       "      <td>6123.439394</td>\n",
       "      <td>5.106061</td>\n",
       "      <td>0.333333</td>\n",
       "      <td>0.000000</td>\n",
       "      <td>66</td>\n",
       "      <td>1.537745</td>\n",
       "    </tr>\n",
       "    <tr>\n",
       "      <td>3</td>\n",
       "      <td>3</td>\n",
       "      <td>5.858347</td>\n",
       "      <td>1.801012</td>\n",
       "      <td>17836.374368</td>\n",
       "      <td>0.082631</td>\n",
       "      <td>0.382799</td>\n",
       "      <td>0.558179</td>\n",
       "      <td>593</td>\n",
       "      <td>13.816403</td>\n",
       "    </tr>\n",
       "    <tr>\n",
       "      <td>4</td>\n",
       "      <td>4</td>\n",
       "      <td>29.083333</td>\n",
       "      <td>1.916667</td>\n",
       "      <td>22481.250000</td>\n",
       "      <td>0.000000</td>\n",
       "      <td>0.500000</td>\n",
       "      <td>4.000000</td>\n",
       "      <td>12</td>\n",
       "      <td>0.279590</td>\n",
       "    </tr>\n",
       "  </tbody>\n",
       "</table>\n",
       "</div>"
      ],
      "text/plain": [
       "   cluster_km  count_of_sessions    source      lifetime     calls  \\\n",
       "0           0          19.108108  1.716216  19384.648649  0.121622   \n",
       "1           1           1.898788  1.816747   1005.664505  0.041162   \n",
       "2           2           5.257576  1.787879   6123.439394  5.106061   \n",
       "3           3           5.858347  1.801012  17836.374368  0.082631   \n",
       "4           4          29.083333  1.916667  22481.250000  0.000000   \n",
       "\n",
       "   add_to_favorites    clicks  count  proportion  \n",
       "0          7.310811  1.310811     74    1.724138  \n",
       "1          0.174796  0.095010   3547   82.642125  \n",
       "2          0.333333  0.000000     66    1.537745  \n",
       "3          0.382799  0.558179    593   13.816403  \n",
       "4          0.500000  4.000000     12    0.279590  "
      ]
     },
     "execution_count": 80,
     "metadata": {},
     "output_type": "execute_result"
    }
   ],
   "source": [
    "cluster_info"
   ]
  },
  {
   "cell_type": "markdown",
   "metadata": {},
   "source": [
    "### Считаю конверсию в просмотр контактов"
   ]
  },
  {
   "cell_type": "code",
   "execution_count": 81,
   "metadata": {},
   "outputs": [],
   "source": [
    "conversion_data = pd.DataFrame() \n",
    "conversion_data['open_contact'] = user_data['open_contact'] \n",
    "conversion_data['cluster_km'] = user_data['cluster_km']\n",
    "conversion_data['source'] = user_data['source'] #Это пригодится потом для проверки гипотез\n",
    "conversion_data['id'] = user_data['id'] #Это пригодится потом для проверки гипотез"
   ]
  },
  {
   "cell_type": "code",
   "execution_count": 82,
   "metadata": {},
   "outputs": [],
   "source": [
    "conversion_data.loc[conversion_data['open_contact'] > 0, 'open_contact'] = 1\n",
    "conversion_data.loc[conversion_data['open_contact'] == 0, 'open_contact'] = 0"
   ]
  },
  {
   "cell_type": "code",
   "execution_count": 83,
   "metadata": {},
   "outputs": [
    {
     "data": {
      "text/plain": [
       "cluster_km\n",
       "0     40\n",
       "1    674\n",
       "2     66\n",
       "3    188\n",
       "4     12\n",
       "Name: open_contact, dtype: int64"
      ]
     },
     "execution_count": 83,
     "metadata": {},
     "output_type": "execute_result"
    }
   ],
   "source": [
    "conversion_data_for_clusters = conversion_data['open_contact'].groupby(conversion_data['cluster_km']).sum()\n",
    "conversion_data_for_clusters"
   ]
  },
  {
   "cell_type": "code",
   "execution_count": 85,
   "metadata": {},
   "outputs": [],
   "source": [
    "cluster_info = cluster_info.merge(conversion_data_for_clusters, on='cluster_km')"
   ]
  },
  {
   "cell_type": "code",
   "execution_count": 86,
   "metadata": {},
   "outputs": [],
   "source": [
    "cluster_info['conversion_to_contact'] = cluster_info['open_contact'] / cluster_info['count']"
   ]
  },
  {
   "cell_type": "code",
   "execution_count": 87,
   "metadata": {},
   "outputs": [
    {
     "data": {
      "text/html": [
       "<div>\n",
       "<style scoped>\n",
       "    .dataframe tbody tr th:only-of-type {\n",
       "        vertical-align: middle;\n",
       "    }\n",
       "\n",
       "    .dataframe tbody tr th {\n",
       "        vertical-align: top;\n",
       "    }\n",
       "\n",
       "    .dataframe thead th {\n",
       "        text-align: right;\n",
       "    }\n",
       "</style>\n",
       "<table border=\"1\" class=\"dataframe\">\n",
       "  <thead>\n",
       "    <tr style=\"text-align: right;\">\n",
       "      <th></th>\n",
       "      <th>cluster_km</th>\n",
       "      <th>count_of_sessions</th>\n",
       "      <th>source</th>\n",
       "      <th>lifetime</th>\n",
       "      <th>calls</th>\n",
       "      <th>add_to_favorites</th>\n",
       "      <th>clicks</th>\n",
       "      <th>count</th>\n",
       "      <th>proportion</th>\n",
       "      <th>open_contact</th>\n",
       "      <th>conversion_to_contact</th>\n",
       "    </tr>\n",
       "  </thead>\n",
       "  <tbody>\n",
       "    <tr>\n",
       "      <td>0</td>\n",
       "      <td>0</td>\n",
       "      <td>19.108108</td>\n",
       "      <td>1.716216</td>\n",
       "      <td>19384.648649</td>\n",
       "      <td>0.121622</td>\n",
       "      <td>7.310811</td>\n",
       "      <td>1.310811</td>\n",
       "      <td>74</td>\n",
       "      <td>1.724138</td>\n",
       "      <td>40</td>\n",
       "      <td>0.540541</td>\n",
       "    </tr>\n",
       "    <tr>\n",
       "      <td>1</td>\n",
       "      <td>1</td>\n",
       "      <td>1.898788</td>\n",
       "      <td>1.816747</td>\n",
       "      <td>1005.664505</td>\n",
       "      <td>0.041162</td>\n",
       "      <td>0.174796</td>\n",
       "      <td>0.095010</td>\n",
       "      <td>3547</td>\n",
       "      <td>82.642125</td>\n",
       "      <td>674</td>\n",
       "      <td>0.190020</td>\n",
       "    </tr>\n",
       "    <tr>\n",
       "      <td>2</td>\n",
       "      <td>2</td>\n",
       "      <td>5.257576</td>\n",
       "      <td>1.787879</td>\n",
       "      <td>6123.439394</td>\n",
       "      <td>5.106061</td>\n",
       "      <td>0.333333</td>\n",
       "      <td>0.000000</td>\n",
       "      <td>66</td>\n",
       "      <td>1.537745</td>\n",
       "      <td>66</td>\n",
       "      <td>1.000000</td>\n",
       "    </tr>\n",
       "    <tr>\n",
       "      <td>3</td>\n",
       "      <td>3</td>\n",
       "      <td>5.858347</td>\n",
       "      <td>1.801012</td>\n",
       "      <td>17836.374368</td>\n",
       "      <td>0.082631</td>\n",
       "      <td>0.382799</td>\n",
       "      <td>0.558179</td>\n",
       "      <td>593</td>\n",
       "      <td>13.816403</td>\n",
       "      <td>188</td>\n",
       "      <td>0.317032</td>\n",
       "    </tr>\n",
       "    <tr>\n",
       "      <td>4</td>\n",
       "      <td>4</td>\n",
       "      <td>29.083333</td>\n",
       "      <td>1.916667</td>\n",
       "      <td>22481.250000</td>\n",
       "      <td>0.000000</td>\n",
       "      <td>0.500000</td>\n",
       "      <td>4.000000</td>\n",
       "      <td>12</td>\n",
       "      <td>0.279590</td>\n",
       "      <td>12</td>\n",
       "      <td>1.000000</td>\n",
       "    </tr>\n",
       "  </tbody>\n",
       "</table>\n",
       "</div>"
      ],
      "text/plain": [
       "   cluster_km  count_of_sessions    source      lifetime     calls  \\\n",
       "0           0          19.108108  1.716216  19384.648649  0.121622   \n",
       "1           1           1.898788  1.816747   1005.664505  0.041162   \n",
       "2           2           5.257576  1.787879   6123.439394  5.106061   \n",
       "3           3           5.858347  1.801012  17836.374368  0.082631   \n",
       "4           4          29.083333  1.916667  22481.250000  0.000000   \n",
       "\n",
       "   add_to_favorites    clicks  count  proportion  open_contact  \\\n",
       "0          7.310811  1.310811     74    1.724138            40   \n",
       "1          0.174796  0.095010   3547   82.642125           674   \n",
       "2          0.333333  0.000000     66    1.537745            66   \n",
       "3          0.382799  0.558179    593   13.816403           188   \n",
       "4          0.500000  4.000000     12    0.279590            12   \n",
       "\n",
       "   conversion_to_contact  \n",
       "0               0.540541  \n",
       "1               0.190020  \n",
       "2               1.000000  \n",
       "3               0.317032  \n",
       "4               1.000000  "
      ]
     },
     "execution_count": 87,
     "metadata": {},
     "output_type": "execute_result"
    }
   ],
   "source": [
    "cluster_info.head(5)"
   ]
  },
  {
   "cell_type": "markdown",
   "metadata": {},
   "source": [
    "### Считаю частоту действий"
   ]
  },
  {
   "cell_type": "code",
   "execution_count": 88,
   "metadata": {},
   "outputs": [],
   "source": [
    "event_sum = user_info['event_count'].groupby(user_info['cluster_km']).sum()\n",
    "event_sum.columns = ['cluster_km', 'event_sum']"
   ]
  },
  {
   "cell_type": "code",
   "execution_count": 89,
   "metadata": {},
   "outputs": [],
   "source": [
    "cluster_info = cluster_info.merge(event_sum, on='cluster_km')"
   ]
  },
  {
   "cell_type": "code",
   "execution_count": 90,
   "metadata": {},
   "outputs": [],
   "source": [
    "cluster_info['event_frequency'] = cluster_info['event_count'] / cluster_info['count']"
   ]
  },
  {
   "cell_type": "code",
   "execution_count": 91,
   "metadata": {
    "scrolled": true
   },
   "outputs": [
    {
     "data": {
      "text/html": [
       "<div>\n",
       "<style scoped>\n",
       "    .dataframe tbody tr th:only-of-type {\n",
       "        vertical-align: middle;\n",
       "    }\n",
       "\n",
       "    .dataframe tbody tr th {\n",
       "        vertical-align: top;\n",
       "    }\n",
       "\n",
       "    .dataframe thead th {\n",
       "        text-align: right;\n",
       "    }\n",
       "</style>\n",
       "<table border=\"1\" class=\"dataframe\">\n",
       "  <thead>\n",
       "    <tr style=\"text-align: right;\">\n",
       "      <th></th>\n",
       "      <th>cluster_km</th>\n",
       "      <th>count_of_sessions</th>\n",
       "      <th>source</th>\n",
       "      <th>lifetime</th>\n",
       "      <th>calls</th>\n",
       "      <th>add_to_favorites</th>\n",
       "      <th>clicks</th>\n",
       "      <th>count</th>\n",
       "      <th>proportion</th>\n",
       "      <th>open_contact</th>\n",
       "      <th>conversion_to_contact</th>\n",
       "      <th>event_count</th>\n",
       "      <th>event_frequency</th>\n",
       "    </tr>\n",
       "  </thead>\n",
       "  <tbody>\n",
       "    <tr>\n",
       "      <td>0</td>\n",
       "      <td>0</td>\n",
       "      <td>19.108108</td>\n",
       "      <td>1.716216</td>\n",
       "      <td>19384.648649</td>\n",
       "      <td>0.121622</td>\n",
       "      <td>7.310811</td>\n",
       "      <td>1.310811</td>\n",
       "      <td>74</td>\n",
       "      <td>1.724138</td>\n",
       "      <td>40</td>\n",
       "      <td>0.540541</td>\n",
       "      <td>9821</td>\n",
       "      <td>132.716216</td>\n",
       "    </tr>\n",
       "    <tr>\n",
       "      <td>1</td>\n",
       "      <td>1</td>\n",
       "      <td>1.898788</td>\n",
       "      <td>1.816747</td>\n",
       "      <td>1005.664505</td>\n",
       "      <td>0.041162</td>\n",
       "      <td>0.174796</td>\n",
       "      <td>0.095010</td>\n",
       "      <td>3547</td>\n",
       "      <td>82.642125</td>\n",
       "      <td>674</td>\n",
       "      <td>0.190020</td>\n",
       "      <td>41172</td>\n",
       "      <td>11.607556</td>\n",
       "    </tr>\n",
       "    <tr>\n",
       "      <td>2</td>\n",
       "      <td>2</td>\n",
       "      <td>5.257576</td>\n",
       "      <td>1.787879</td>\n",
       "      <td>6123.439394</td>\n",
       "      <td>5.106061</td>\n",
       "      <td>0.333333</td>\n",
       "      <td>0.000000</td>\n",
       "      <td>66</td>\n",
       "      <td>1.537745</td>\n",
       "      <td>66</td>\n",
       "      <td>1.000000</td>\n",
       "      <td>1755</td>\n",
       "      <td>26.590909</td>\n",
       "    </tr>\n",
       "    <tr>\n",
       "      <td>3</td>\n",
       "      <td>3</td>\n",
       "      <td>5.858347</td>\n",
       "      <td>1.801012</td>\n",
       "      <td>17836.374368</td>\n",
       "      <td>0.082631</td>\n",
       "      <td>0.382799</td>\n",
       "      <td>0.558179</td>\n",
       "      <td>593</td>\n",
       "      <td>13.816403</td>\n",
       "      <td>188</td>\n",
       "      <td>0.317032</td>\n",
       "      <td>18140</td>\n",
       "      <td>30.590219</td>\n",
       "    </tr>\n",
       "    <tr>\n",
       "      <td>4</td>\n",
       "      <td>4</td>\n",
       "      <td>29.083333</td>\n",
       "      <td>1.916667</td>\n",
       "      <td>22481.250000</td>\n",
       "      <td>0.000000</td>\n",
       "      <td>0.500000</td>\n",
       "      <td>4.000000</td>\n",
       "      <td>12</td>\n",
       "      <td>0.279590</td>\n",
       "      <td>12</td>\n",
       "      <td>1.000000</td>\n",
       "      <td>2909</td>\n",
       "      <td>242.416667</td>\n",
       "    </tr>\n",
       "  </tbody>\n",
       "</table>\n",
       "</div>"
      ],
      "text/plain": [
       "   cluster_km  count_of_sessions    source      lifetime     calls  \\\n",
       "0           0          19.108108  1.716216  19384.648649  0.121622   \n",
       "1           1           1.898788  1.816747   1005.664505  0.041162   \n",
       "2           2           5.257576  1.787879   6123.439394  5.106061   \n",
       "3           3           5.858347  1.801012  17836.374368  0.082631   \n",
       "4           4          29.083333  1.916667  22481.250000  0.000000   \n",
       "\n",
       "   add_to_favorites    clicks  count  proportion  open_contact  \\\n",
       "0          7.310811  1.310811     74    1.724138            40   \n",
       "1          0.174796  0.095010   3547   82.642125           674   \n",
       "2          0.333333  0.000000     66    1.537745            66   \n",
       "3          0.382799  0.558179    593   13.816403           188   \n",
       "4          0.500000  4.000000     12    0.279590            12   \n",
       "\n",
       "   conversion_to_contact  event_count  event_frequency  \n",
       "0               0.540541         9821       132.716216  \n",
       "1               0.190020        41172        11.607556  \n",
       "2               1.000000         1755        26.590909  \n",
       "3               0.317032        18140        30.590219  \n",
       "4               1.000000         2909       242.416667  "
      ]
     },
     "execution_count": 91,
     "metadata": {},
     "output_type": "execute_result"
    }
   ],
   "source": [
    "cluster_info.head(5)"
   ]
  },
  {
   "cell_type": "markdown",
   "metadata": {},
   "source": [
    "### Считаю время, проведённое в приложении"
   ]
  },
  {
   "cell_type": "code",
   "execution_count": 92,
   "metadata": {},
   "outputs": [],
   "source": [
    "sessions_per_user = session_info.groupby('id', as_index=False).agg({'duration':'count'})\n",
    "sessions_per_user = sessions_per_user.rename(columns={'duration':'count_of_sessions'})"
   ]
  },
  {
   "cell_type": "code",
   "execution_count": 93,
   "metadata": {},
   "outputs": [],
   "source": [
    "duration_per_user = session_info.groupby('id', as_index=False).agg({'duration':'sum'})\n",
    "duration_per_user = duration_per_user.rename(columns={'duration':'duration_sum'})\n",
    "#user_info = user_info.merge(duration_per_user, on='id')"
   ]
  },
  {
   "cell_type": "code",
   "execution_count": 94,
   "metadata": {},
   "outputs": [],
   "source": [
    "user_info = user_info.merge(duration_per_user, on='id')"
   ]
  },
  {
   "cell_type": "code",
   "execution_count": 95,
   "metadata": {},
   "outputs": [],
   "source": [
    "duration_per_cluster = user_info.groupby('cluster_km', as_index=False).agg({'duration_sum':'sum'})"
   ]
  },
  {
   "cell_type": "code",
   "execution_count": 96,
   "metadata": {},
   "outputs": [],
   "source": [
    "cluster_info = cluster_info.merge(duration_per_cluster, on='cluster_km')"
   ]
  },
  {
   "cell_type": "code",
   "execution_count": 111,
   "metadata": {},
   "outputs": [],
   "source": [
    "cluster_info['duration_mean'] = cluster_info['duration_sum'] / cluster_info['count']"
   ]
  },
  {
   "cell_type": "code",
   "execution_count": 112,
   "metadata": {},
   "outputs": [
    {
     "data": {
      "text/html": [
       "<div>\n",
       "<style scoped>\n",
       "    .dataframe tbody tr th:only-of-type {\n",
       "        vertical-align: middle;\n",
       "    }\n",
       "\n",
       "    .dataframe tbody tr th {\n",
       "        vertical-align: top;\n",
       "    }\n",
       "\n",
       "    .dataframe thead th {\n",
       "        text-align: right;\n",
       "    }\n",
       "</style>\n",
       "<table border=\"1\" class=\"dataframe\">\n",
       "  <thead>\n",
       "    <tr style=\"text-align: right;\">\n",
       "      <th></th>\n",
       "      <th>cluster_km</th>\n",
       "      <th>count_of_sessions</th>\n",
       "      <th>source</th>\n",
       "      <th>lifetime</th>\n",
       "      <th>calls</th>\n",
       "      <th>add_to_favorites</th>\n",
       "      <th>clicks</th>\n",
       "      <th>count</th>\n",
       "      <th>proportion</th>\n",
       "      <th>open_contact</th>\n",
       "      <th>conversion_to_contact</th>\n",
       "      <th>event_count</th>\n",
       "      <th>event_frequency</th>\n",
       "      <th>duration_sum</th>\n",
       "      <th>duration_mean</th>\n",
       "    </tr>\n",
       "  </thead>\n",
       "  <tbody>\n",
       "    <tr>\n",
       "      <td>0</td>\n",
       "      <td>0</td>\n",
       "      <td>19.108108</td>\n",
       "      <td>1.716216</td>\n",
       "      <td>19384.648649</td>\n",
       "      <td>0.121622</td>\n",
       "      <td>7.310811</td>\n",
       "      <td>1.310811</td>\n",
       "      <td>74</td>\n",
       "      <td>1.724138</td>\n",
       "      <td>40</td>\n",
       "      <td>0.540541</td>\n",
       "      <td>9821</td>\n",
       "      <td>132.716216</td>\n",
       "      <td>16755.833333</td>\n",
       "      <td>226.430180</td>\n",
       "    </tr>\n",
       "    <tr>\n",
       "      <td>1</td>\n",
       "      <td>1</td>\n",
       "      <td>1.898788</td>\n",
       "      <td>1.816747</td>\n",
       "      <td>1005.664505</td>\n",
       "      <td>0.041162</td>\n",
       "      <td>0.174796</td>\n",
       "      <td>0.095010</td>\n",
       "      <td>3547</td>\n",
       "      <td>82.642125</td>\n",
       "      <td>674</td>\n",
       "      <td>0.190020</td>\n",
       "      <td>41172</td>\n",
       "      <td>11.607556</td>\n",
       "      <td>66803.333333</td>\n",
       "      <td>18.833756</td>\n",
       "    </tr>\n",
       "    <tr>\n",
       "      <td>2</td>\n",
       "      <td>2</td>\n",
       "      <td>5.257576</td>\n",
       "      <td>1.787879</td>\n",
       "      <td>6123.439394</td>\n",
       "      <td>5.106061</td>\n",
       "      <td>0.333333</td>\n",
       "      <td>0.000000</td>\n",
       "      <td>66</td>\n",
       "      <td>1.537745</td>\n",
       "      <td>66</td>\n",
       "      <td>1.000000</td>\n",
       "      <td>1755</td>\n",
       "      <td>26.590909</td>\n",
       "      <td>2734.833333</td>\n",
       "      <td>41.436869</td>\n",
       "    </tr>\n",
       "    <tr>\n",
       "      <td>3</td>\n",
       "      <td>3</td>\n",
       "      <td>5.858347</td>\n",
       "      <td>1.801012</td>\n",
       "      <td>17836.374368</td>\n",
       "      <td>0.082631</td>\n",
       "      <td>0.382799</td>\n",
       "      <td>0.558179</td>\n",
       "      <td>593</td>\n",
       "      <td>13.816403</td>\n",
       "      <td>188</td>\n",
       "      <td>0.317032</td>\n",
       "      <td>18140</td>\n",
       "      <td>30.590219</td>\n",
       "      <td>30184.366667</td>\n",
       "      <td>50.901124</td>\n",
       "    </tr>\n",
       "    <tr>\n",
       "      <td>4</td>\n",
       "      <td>4</td>\n",
       "      <td>29.083333</td>\n",
       "      <td>1.916667</td>\n",
       "      <td>22481.250000</td>\n",
       "      <td>0.000000</td>\n",
       "      <td>0.500000</td>\n",
       "      <td>4.000000</td>\n",
       "      <td>12</td>\n",
       "      <td>0.279590</td>\n",
       "      <td>12</td>\n",
       "      <td>1.000000</td>\n",
       "      <td>2909</td>\n",
       "      <td>242.416667</td>\n",
       "      <td>6224.133333</td>\n",
       "      <td>518.677778</td>\n",
       "    </tr>\n",
       "  </tbody>\n",
       "</table>\n",
       "</div>"
      ],
      "text/plain": [
       "   cluster_km  count_of_sessions    source      lifetime     calls  \\\n",
       "0           0          19.108108  1.716216  19384.648649  0.121622   \n",
       "1           1           1.898788  1.816747   1005.664505  0.041162   \n",
       "2           2           5.257576  1.787879   6123.439394  5.106061   \n",
       "3           3           5.858347  1.801012  17836.374368  0.082631   \n",
       "4           4          29.083333  1.916667  22481.250000  0.000000   \n",
       "\n",
       "   add_to_favorites    clicks  count  proportion  open_contact  \\\n",
       "0          7.310811  1.310811     74    1.724138            40   \n",
       "1          0.174796  0.095010   3547   82.642125           674   \n",
       "2          0.333333  0.000000     66    1.537745            66   \n",
       "3          0.382799  0.558179    593   13.816403           188   \n",
       "4          0.500000  4.000000     12    0.279590            12   \n",
       "\n",
       "   conversion_to_contact  event_count  event_frequency  duration_sum  \\\n",
       "0               0.540541         9821       132.716216  16755.833333   \n",
       "1               0.190020        41172        11.607556  66803.333333   \n",
       "2               1.000000         1755        26.590909   2734.833333   \n",
       "3               0.317032        18140        30.590219  30184.366667   \n",
       "4               1.000000         2909       242.416667   6224.133333   \n",
       "\n",
       "   duration_mean  \n",
       "0     226.430180  \n",
       "1      18.833756  \n",
       "2      41.436869  \n",
       "3      50.901124  \n",
       "4     518.677778  "
      ]
     },
     "execution_count": 112,
     "metadata": {},
     "output_type": "execute_result"
    }
   ],
   "source": [
    "cluster_info.head(5)"
   ]
  },
  {
   "cell_type": "markdown",
   "metadata": {},
   "source": [
    "### Вывод по шагу 4"
   ]
  },
  {
   "cell_type": "markdown",
   "metadata": {},
   "source": [
    "Процент удержания пользователей в целом хромает: по всем данным он редко превышает 10% к 3 неделе пользования приложением. Это подтверждает ранее полученные выводы о том, что достаточно большая часть пользователей не пользуется нашим сервисом более 2 дней. \n",
    "\n",
    "По сегментам самый крупный -- первый, оказывает большее влияние на общую статистику: уже на вторую неделю retention rate по нему сводится к нулю. \n",
    "\n",
    "Нулевой держится лучше всех, к четвертой неделе он удерживает 43% пользователей. В этой группе у нас 74 пользователя, и по всей видимости -- **это наш целевой сегмент**, в нём только 1,7% пользователей.\n",
    "\n",
    "Четвертый, как и говорилось ранее, странные 12 ребят, которые в нулевую и третью недлю совершили одинаковое число сессий, зато были наиболее активны во вторую. Либо боты решили заработать побольше, либо разрабы что-то усиленно тестировали. \n",
    "\n",
    "Посчитал и додовил в общую таблицу частоту действий, время, проведённое в приложении и конверсию в целевое действие в среднем по сегментам. \n",
    "\n",
    "По конверсии в просмотр контактов выигрывают второй и четвертый сегменты, по времени пользования и частоте действий -- нулевой и четвертый. "
   ]
  },
  {
   "cell_type": "markdown",
   "metadata": {},
   "source": [
    "## Проверка гипотез"
   ]
  },
  {
   "cell_type": "markdown",
   "metadata": {},
   "source": [
    "- Существует ли отличие в конверсии в просмотры контактов у пользователей, пришедших из разных источников? \n",
    "- Существует ли отличие в суммарном времени пользования приложением в зависимости от источника? "
   ]
  },
  {
   "cell_type": "markdown",
   "metadata": {},
   "source": [
    "### Проверка первой гипотезы"
   ]
  },
  {
   "cell_type": "markdown",
   "metadata": {},
   "source": [
    "**Гипотеза H₀**: Конверсии в просмомотры у пользователей из разных источников равны;\n",
    "\n",
    "**Альтернативная гипотеза**: Конверсия в просмотры у пользователей из Яндекса отличается от конверсии пользователей из Гугл."
   ]
  },
  {
   "cell_type": "code",
   "execution_count": 99,
   "metadata": {},
   "outputs": [],
   "source": [
    "conversion_data['opent_countact_sum'] = user_info['open_contact']"
   ]
  },
  {
   "cell_type": "code",
   "execution_count": 100,
   "metadata": {},
   "outputs": [
    {
     "data": {
      "text/html": [
       "<div>\n",
       "<style scoped>\n",
       "    .dataframe tbody tr th:only-of-type {\n",
       "        vertical-align: middle;\n",
       "    }\n",
       "\n",
       "    .dataframe tbody tr th {\n",
       "        vertical-align: top;\n",
       "    }\n",
       "\n",
       "    .dataframe thead th {\n",
       "        text-align: right;\n",
       "    }\n",
       "</style>\n",
       "<table border=\"1\" class=\"dataframe\">\n",
       "  <thead>\n",
       "    <tr style=\"text-align: right;\">\n",
       "      <th></th>\n",
       "      <th>open_contact</th>\n",
       "      <th>cluster_km</th>\n",
       "      <th>source</th>\n",
       "      <th>id</th>\n",
       "      <th>opent_countact_sum</th>\n",
       "    </tr>\n",
       "  </thead>\n",
       "  <tbody>\n",
       "    <tr>\n",
       "      <td>0</td>\n",
       "      <td>0</td>\n",
       "      <td>1</td>\n",
       "      <td>2</td>\n",
       "      <td>020292ab-89bc-4156-9acf-68bc2783f894</td>\n",
       "      <td>0</td>\n",
       "    </tr>\n",
       "    <tr>\n",
       "      <td>1</td>\n",
       "      <td>0</td>\n",
       "      <td>3</td>\n",
       "      <td>1</td>\n",
       "      <td>cf7eda61-9349-469f-ac27-e5b6f5ec475c</td>\n",
       "      <td>0</td>\n",
       "    </tr>\n",
       "    <tr>\n",
       "      <td>2</td>\n",
       "      <td>1</td>\n",
       "      <td>3</td>\n",
       "      <td>1</td>\n",
       "      <td>8c356c42-3ba9-4cb6-80b8-3f868d0192c3</td>\n",
       "      <td>2</td>\n",
       "    </tr>\n",
       "    <tr>\n",
       "      <td>3</td>\n",
       "      <td>0</td>\n",
       "      <td>3</td>\n",
       "      <td>2</td>\n",
       "      <td>d9b06b47-0f36-419b-bbb0-3533e582a6cb</td>\n",
       "      <td>0</td>\n",
       "    </tr>\n",
       "    <tr>\n",
       "      <td>4</td>\n",
       "      <td>0</td>\n",
       "      <td>1</td>\n",
       "      <td>3</td>\n",
       "      <td>f32e1e2a-3027-4693-b793-b7b3ff274439</td>\n",
       "      <td>0</td>\n",
       "    </tr>\n",
       "  </tbody>\n",
       "</table>\n",
       "</div>"
      ],
      "text/plain": [
       "   open_contact  cluster_km  source                                    id  \\\n",
       "0             0           1       2  020292ab-89bc-4156-9acf-68bc2783f894   \n",
       "1             0           3       1  cf7eda61-9349-469f-ac27-e5b6f5ec475c   \n",
       "2             1           3       1  8c356c42-3ba9-4cb6-80b8-3f868d0192c3   \n",
       "3             0           3       2  d9b06b47-0f36-419b-bbb0-3533e582a6cb   \n",
       "4             0           1       3  f32e1e2a-3027-4693-b793-b7b3ff274439   \n",
       "\n",
       "   opent_countact_sum  \n",
       "0                   0  \n",
       "1                   0  \n",
       "2                   2  \n",
       "3                   0  \n",
       "4                   0  "
      ]
     },
     "execution_count": 100,
     "metadata": {},
     "output_type": "execute_result"
    }
   ],
   "source": [
    "conversion_data.head(5)"
   ]
  },
  {
   "cell_type": "code",
   "execution_count": 101,
   "metadata": {},
   "outputs": [],
   "source": [
    "yandex_data = conversion_data.query('source == 1')\n",
    "google_data = conversion_data.query('source == 3')\n",
    "\n",
    "yandex_conversion = yandex_data['open_contact'].sum() / yandex_data['source'].count()\n",
    "google_conversion = google_data['open_contact'].sum() / google_data['source'].count()"
   ]
  },
  {
   "cell_type": "code",
   "execution_count": 102,
   "metadata": {},
   "outputs": [
    {
     "name": "stdout",
     "output_type": "stream",
     "text": [
      "0.24676668391101914\n",
      "0.24357838795394154\n"
     ]
    }
   ],
   "source": [
    "print(yandex_conversion)\n",
    "print(google_conversion)"
   ]
  },
  {
   "cell_type": "code",
   "execution_count": 103,
   "metadata": {},
   "outputs": [
    {
     "name": "stdout",
     "output_type": "stream",
     "text": [
      "Число пользователей из Яндекса: 1933\n",
      "Число пользователей из Яндекса, совершивших целевое действие: 477\n",
      "\n",
      "Число пользователей из Гугл: 1129\n",
      "Число пользователей из Гугл, совершивших целевое действие: 275\n"
     ]
    }
   ],
   "source": [
    "print('Число пользователей из Яндекса:', len(yandex_data))\n",
    "print('Число пользователей из Яндекса, совершивших целевое действие:', yandex_data['open_contact'].sum())\n",
    "print()\n",
    "print('Число пользователей из Гугл:', len(google_data))\n",
    "print('Число пользователей из Гугл, совершивших целевое действие:', google_data['open_contact'].sum())"
   ]
  },
  {
   "cell_type": "code",
   "execution_count": 104,
   "metadata": {},
   "outputs": [
    {
     "name": "stdout",
     "output_type": "stream",
     "text": [
      "z_value = 0.19774668390727942\n",
      "Не получилось отвергнуть нулевую гипотезу, нет оснований считать доли разными\n"
     ]
    }
   ],
   "source": [
    "alpha = .05 \n",
    "\n",
    "open_contact_users = np.array([477, 275])\n",
    "all_users = np.array([1933, 1129])\n",
    "\n",
    "p1 = open_contact_users[0] / all_users[0]\n",
    "p2 = open_contact_users[1] / all_users[1]\n",
    "p_combined = (open_contact_users[0] + open_contact_users[1]) / (all_users[0] + all_users[1])\n",
    "z_value = (p1 - p2) / mth.sqrt(p_combined * (1 - p_combined) * (1 / all_users[0] + 1 / all_users[1]))\n",
    "distr = stats.norm(0, 1)\n",
    "p_value = (1 - distr.cdf(abs(z_value))) * 2\n",
    "print('z_value =', z_value)\n",
    "\n",
    "if (p_value < alpha):\n",
    "    print(\"Отвергаем нулевую гипотезу: между долями есть значимая разница\")\n",
    "else:\n",
    "    print(\"Не получилось отвергнуть нулевую гипотезу, нет оснований считать доли разными\")"
   ]
  },
  {
   "cell_type": "markdown",
   "metadata": {},
   "source": [
    "### Проверка второй гипотезы"
   ]
  },
  {
   "cell_type": "markdown",
   "metadata": {},
   "source": [
    "**Гипотеза H₀**: Время работы с приложением у пользователей из разных источников равно.\n",
    "\n",
    "**Альтернативная гипотеза**: Время, проведённое в приложении, у пользователей из Яндекса отличается от времени пользователей из Гугл."
   ]
  },
  {
   "cell_type": "code",
   "execution_count": 105,
   "metadata": {},
   "outputs": [
    {
     "data": {
      "text/html": [
       "<div>\n",
       "<style scoped>\n",
       "    .dataframe tbody tr th:only-of-type {\n",
       "        vertical-align: middle;\n",
       "    }\n",
       "\n",
       "    .dataframe tbody tr th {\n",
       "        vertical-align: top;\n",
       "    }\n",
       "\n",
       "    .dataframe thead th {\n",
       "        text-align: right;\n",
       "    }\n",
       "</style>\n",
       "<table border=\"1\" class=\"dataframe\">\n",
       "  <thead>\n",
       "    <tr style=\"text-align: right;\">\n",
       "      <th></th>\n",
       "      <th>id</th>\n",
       "      <th>count_of_sessions</th>\n",
       "      <th>source</th>\n",
       "      <th>event_count</th>\n",
       "      <th>lifetime</th>\n",
       "      <th>open_contact</th>\n",
       "      <th>calls</th>\n",
       "      <th>add_to_favorites</th>\n",
       "      <th>clicks</th>\n",
       "      <th>cluster_km</th>\n",
       "      <th>duration_sum</th>\n",
       "    </tr>\n",
       "  </thead>\n",
       "  <tbody>\n",
       "    <tr>\n",
       "      <td>0</td>\n",
       "      <td>020292ab-89bc-4156-9acf-68bc2783f894</td>\n",
       "      <td>1</td>\n",
       "      <td>2</td>\n",
       "      <td>28</td>\n",
       "      <td>18</td>\n",
       "      <td>0</td>\n",
       "      <td>0</td>\n",
       "      <td>0</td>\n",
       "      <td>0</td>\n",
       "      <td>1</td>\n",
       "      <td>18.700000</td>\n",
       "    </tr>\n",
       "    <tr>\n",
       "      <td>1</td>\n",
       "      <td>cf7eda61-9349-469f-ac27-e5b6f5ec475c</td>\n",
       "      <td>10</td>\n",
       "      <td>1</td>\n",
       "      <td>93</td>\n",
       "      <td>34539</td>\n",
       "      <td>0</td>\n",
       "      <td>0</td>\n",
       "      <td>0</td>\n",
       "      <td>2</td>\n",
       "      <td>3</td>\n",
       "      <td>154.016667</td>\n",
       "    </tr>\n",
       "    <tr>\n",
       "      <td>2</td>\n",
       "      <td>8c356c42-3ba9-4cb6-80b8-3f868d0192c3</td>\n",
       "      <td>5</td>\n",
       "      <td>1</td>\n",
       "      <td>96</td>\n",
       "      <td>33101</td>\n",
       "      <td>2</td>\n",
       "      <td>0</td>\n",
       "      <td>0</td>\n",
       "      <td>3</td>\n",
       "      <td>3</td>\n",
       "      <td>132.316667</td>\n",
       "    </tr>\n",
       "    <tr>\n",
       "      <td>3</td>\n",
       "      <td>d9b06b47-0f36-419b-bbb0-3533e582a6cb</td>\n",
       "      <td>3</td>\n",
       "      <td>2</td>\n",
       "      <td>8</td>\n",
       "      <td>27997</td>\n",
       "      <td>0</td>\n",
       "      <td>0</td>\n",
       "      <td>0</td>\n",
       "      <td>0</td>\n",
       "      <td>3</td>\n",
       "      <td>2.483333</td>\n",
       "    </tr>\n",
       "    <tr>\n",
       "      <td>4</td>\n",
       "      <td>f32e1e2a-3027-4693-b793-b7b3ff274439</td>\n",
       "      <td>1</td>\n",
       "      <td>3</td>\n",
       "      <td>33</td>\n",
       "      <td>40</td>\n",
       "      <td>0</td>\n",
       "      <td>0</td>\n",
       "      <td>0</td>\n",
       "      <td>0</td>\n",
       "      <td>1</td>\n",
       "      <td>40.800000</td>\n",
       "    </tr>\n",
       "  </tbody>\n",
       "</table>\n",
       "</div>"
      ],
      "text/plain": [
       "                                     id  count_of_sessions  source  \\\n",
       "0  020292ab-89bc-4156-9acf-68bc2783f894                  1       2   \n",
       "1  cf7eda61-9349-469f-ac27-e5b6f5ec475c                 10       1   \n",
       "2  8c356c42-3ba9-4cb6-80b8-3f868d0192c3                  5       1   \n",
       "3  d9b06b47-0f36-419b-bbb0-3533e582a6cb                  3       2   \n",
       "4  f32e1e2a-3027-4693-b793-b7b3ff274439                  1       3   \n",
       "\n",
       "   event_count  lifetime  open_contact  calls  add_to_favorites  clicks  \\\n",
       "0           28        18             0      0                 0       0   \n",
       "1           93     34539             0      0                 0       2   \n",
       "2           96     33101             2      0                 0       3   \n",
       "3            8     27997             0      0                 0       0   \n",
       "4           33        40             0      0                 0       0   \n",
       "\n",
       "   cluster_km  duration_sum  \n",
       "0           1     18.700000  \n",
       "1           3    154.016667  \n",
       "2           3    132.316667  \n",
       "3           3      2.483333  \n",
       "4           1     40.800000  "
      ]
     },
     "execution_count": 105,
     "metadata": {},
     "output_type": "execute_result"
    }
   ],
   "source": [
    "user_info.head(5)"
   ]
  },
  {
   "cell_type": "code",
   "execution_count": 106,
   "metadata": {},
   "outputs": [],
   "source": [
    "yandex_time = user_info[user_info['source']== 1].groupby('id', as_index=False).agg({'duration_sum' : 'sum'})\n",
    "yandex_time.columns = ['id', 'duration']\n",
    " \n",
    "google_time = user_info[user_info['source']== 2].groupby('id', as_index=False).agg({'duration_sum' : 'sum'})\n",
    "google_time.columns = ['id', 'duration']\n",
    "\n",
    "yandex_time['duration'] = yandex_time['duration'].astype('int')\n",
    "google_time['duration'] = google_time['duration'].astype('int')"
   ]
  },
  {
   "cell_type": "code",
   "execution_count": 107,
   "metadata": {},
   "outputs": [],
   "source": [
    "sampleA = yandex_time['duration']\n",
    "sampleB = google_time['duration']"
   ]
  },
  {
   "cell_type": "code",
   "execution_count": 108,
   "metadata": {},
   "outputs": [
    {
     "name": "stdout",
     "output_type": "stream",
     "text": [
      "29.29022245214692\n",
      "24.802439024390242\n"
     ]
    }
   ],
   "source": [
    "print(sampleA.mean())\n",
    "print(sampleB.mean())"
   ]
  },
  {
   "cell_type": "code",
   "execution_count": 109,
   "metadata": {},
   "outputs": [
    {
     "name": "stdout",
     "output_type": "stream",
     "text": [
      "0.00000\n",
      "-0.153\n"
     ]
    }
   ],
   "source": [
    "from scipy.stats import mannwhitneyu\n",
    "print(\"{0:.5f}\".format(stats.mannwhitneyu(sampleA, sampleB)[1]))\n",
    "print(\"{0:.3f}\".format(sampleB.mean()/sampleA.mean()-1)) "
   ]
  },
  {
   "cell_type": "markdown",
   "metadata": {},
   "source": [
    "P-value меньше 0.5, значит нулевую гипотезу отвергаем. "
   ]
  },
  {
   "cell_type": "markdown",
   "metadata": {},
   "source": [
    "### Вывод по шагу 5"
   ]
  },
  {
   "cell_type": "markdown",
   "metadata": {},
   "source": [
    "Проверил 2 гипотезы: о разности конверсии в просмотры контактов среди пользователей, пришедших из разных источников, и о разности времени, проведённом в приложении, также среди этих групп. \n",
    "\n",
    "Первую не получилось отвергунть, есть основания считать доли равными. \n",
    "Вторую получилось отвергнуть, есть основания считать, что время пользования приложением зависит от источника. "
   ]
  },
  {
   "cell_type": "markdown",
   "metadata": {},
   "source": [
    "## Выводы по анализу "
   ]
  },
  {
   "cell_type": "markdown",
   "metadata": {},
   "source": [
    "- Всего имеем данные о 4293 пользователях, которые совершили 12432 сессии, выполнив 74197 действий в приложении.\n",
    "\n",
    "- **Больше всего клиентов** к нам пришло **из Яндекса** -- 1934, меньше всего из Google -- 1129. \n",
    "\n",
    "- Нашел одного бота-фродера, который только и делал, что отсматривал рекламу в приложении, воруя бюджеты пользователей. Выгнал его его из данных.\n",
    "\n",
    "- **Средний lifetime** составляет **2,5 дня** -- по-видимому, **пользователи редко возвращаются в приложение**.\n",
    "\n",
    "- Целевое действие -- переход в контакт, совершил 981 пользователь, а средняя конверсия в это дейсвтие составила 32%. \n",
    "\n",
    "**Сегментировал пользователей на 5 кластеров:** \n",
    "\n",
    "   **Нулевой кластер** -- в него попало 74 пользователя. Это \"старички\" с лайфтаймом в почти 2 недели. Лишь 12% из них позвонили контакту из приложения, но зато они чаще других добавляют карточки в избранное -- более 7 раз на пользователя. В среднем они совершили по 19 сессий, и каждый из них хоть раз нажал на предложенное объявление. По предварительной оценке, они -- **наш целевой сегмент**. \n",
    "\n",
    "   **Первый кластер** -- Самая большая группа. Это новые пользователи, их лайфтайм не превышает одного дня. В среднем число сессий в этой группе не превышает 2, лишь 4% успели позвонить контакту, 17% добавили карточку в избранное и 9% нажали на рекомендацию. \n",
    "\n",
    "   **Второй кластер** -- Явно знали, зачем пришли. Они совсем не нажимали на рекомендации, в среднем за 5 сессий и 4 дня лайфтайма успели сделать по 5 звонков и лишь треть из них добавили карточки в избранное.\n",
    "\n",
    "   **Третий кластер** --  13% из выборки. За 12 дней лайфтайма сделали почти по 6 сессий. Только 8% звонили из приложения, зато почти 40% добавили карточку товара в избранное, а больше половины -- 56% нажали на рекомендованное объявление. \n",
    "\n",
    "   **Четвертый кластер** -- Самая малочилсенная группа. 12 пользователей, которые совсем не звонили из приложения. 50% добавили что-то в избранное, зато каждый в среднем по 4 раза кликнул на рекомендацию. Подозрительное поведение и численность группы говорит о том, что это либо рекламные боты, либо наши сотрудники, тестирующие конкретный функционал. \n",
    "\n",
    "Retention rate нулевого кластера положительно выделяется на общем фоне -- к 4 неделе 43% из них еще пользуются приложением. В целом по всей выборке этот показатель стремится к 7%.\n",
    "\n",
    "Четвертый кластер -- 12 сомнительных ребят. Они очень активные, кажется, это наши сотрудники. \n",
    "\n",
    "**Проверка гипотез** показала, что **нельзя отвергнуть предположения** об отсутствии статистической разницы между конверсиями в просмотр контактов в зависимости от источника, из которого пришёл пользователь. Проверка второй гипотезы показала, что  между источником прихода пользователя и временем, проведённым в приложении, есть статистическая разница. Пользователи, пришедшие из Яндекса, в среднем проводят в приложении на 5 минут больше."
   ]
  },
  {
   "cell_type": "markdown",
   "metadata": {},
   "source": [
    "## Предложения "
   ]
  },
  {
   "cell_type": "markdown",
   "metadata": {},
   "source": [
    "Наши самые активные пользователи -- нулевой сегмент. Они показывают хорошую конверсию в целевое действие -- 54%. При этом показывая отличные покахатели в других метриках: кликах по рекомендациям, звонкам и сохранением в избранное. Также у них лучшие показатели retention rate -- 43% остаются к 4 неделе. \n",
    "\n",
    "Чтобы привести других пользователей к показателям второго кластера, предлагаю: \n",
    "\n",
    "- **Провести анализ рекламы, размещаемой во всех источниках.** Большая часть пользователей не задерживается надолго -- 3,5 тысячи пользователей из первого сегмента не проводя в приложении и 20 минут. Их Lifetime не превышает 1.2 дня. Возможно, приложение не отвечает их ожиданиям, возникшим из-за неправильной рекламы. \n",
    "\n",
    "\n",
    "- **Стимулировать пользователей заходить в приложение чаще**. Например, давать баллы за ежедневное посещение приложения. \n",
    "\n",
    "\n",
    "- **Совершенствовать персонализацию отображаемых объявлений**. Чтобы пользователь \"цеплялся\", заходя в приложение. 2 сессии по 8-10 минут у большинства пользователей говорят о том, что они не находят ничего интересного для себя, из-за чего больше не заходят в приложение. Кажется, \"Ненужные вещи\" им действительно не нужны. "
   ]
  },
  {
   "cell_type": "markdown",
   "metadata": {},
   "source": [
    "## Материалы"
   ]
  },
  {
   "cell_type": "markdown",
   "metadata": {},
   "source": [
    "[Презентация](https://disk.yandex.ru/i/l79J8YzAh-igkw)"
   ]
  }
 ],
 "metadata": {
  "kernelspec": {
   "display_name": "Python 3",
   "language": "python",
   "name": "python3"
  },
  "language_info": {
   "codemirror_mode": {
    "name": "ipython",
    "version": 3
   },
   "file_extension": ".py",
   "mimetype": "text/x-python",
   "name": "python",
   "nbconvert_exporter": "python",
   "pygments_lexer": "ipython3",
   "version": "3.7.8"
  },
  "toc": {
   "base_numbering": 1,
   "nav_menu": {
    "height": "70px",
    "width": "342px"
   },
   "number_sections": true,
   "sideBar": true,
   "skip_h1_title": true,
   "title_cell": "Table of Contents",
   "title_sidebar": "Contents",
   "toc_cell": false,
   "toc_position": {
    "height": "calc(100% - 180px)",
    "left": "10px",
    "top": "150px",
    "width": "328px"
   },
   "toc_section_display": true,
   "toc_window_display": false
  }
 },
 "nbformat": 4,
 "nbformat_minor": 2
}
